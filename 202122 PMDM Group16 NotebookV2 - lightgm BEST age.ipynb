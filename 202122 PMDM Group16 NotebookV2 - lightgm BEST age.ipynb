{
 "cells": [
  {
   "cell_type": "markdown",
   "id": "8166466e",
   "metadata": {
    "id": "8166466e"
   },
   "source": [
    "# The Spies Among US\n",
    "\n",
    " Which citizens should be placed under close surveillance?"
   ]
  },
  {
   "cell_type": "markdown",
   "id": "d892d1a9",
   "metadata": {
    "id": "d892d1a9"
   },
   "source": [
    "__________________________"
   ]
  },
  {
   "cell_type": "code",
   "execution_count": 173,
   "id": "f4f85924",
   "metadata": {
    "colab": {
     "base_uri": "https://localhost:8080/",
     "height": 374
    },
    "executionInfo": {
     "elapsed": 993,
     "status": "error",
     "timestamp": 1653063739322,
     "user": {
      "displayName": "Ana Rita Silva",
      "userId": "07060673378345887532"
     },
     "user_tz": -60
    },
    "id": "f4f85924",
    "outputId": "6e4d747d-3ddb-4dda-b1c5-506b26d22bc4"
   },
   "outputs": [],
   "source": [
    "# Setup\n",
    "import pandas as pd\n",
    "import numpy as np\n",
    "#import pandas_profiling as pp\n",
    "import seaborn as sns\n",
    "from datetime import datetime\n",
    "from matplotlib import pyplot as plt\n",
    "from sklearn import preprocessing\n",
    "from sklearn.model_selection import train_test_split,GridSearchCV, RandomizedSearchCV\n",
    "from skopt import BayesSearchCV\n",
    "from sklearn.pipeline import Pipeline\n",
    "from sklearn.metrics import accuracy_score, classification_report, confusion_matrix, roc_auc_score\n",
    "from sklearn import metrics\n",
    "from sklearn.preprocessing import MinMaxScaler\n",
    "from sklearn.model_selection import StratifiedKFold\n",
    "from sklearn.metrics import confusion_matrix, precision_score, recall_score\n",
    "from sklearn.preprocessing import label_binarize\n",
    "import joblib\n",
    "import warnings\n",
    "warnings.filterwarnings(\"ignore\")"
   ]
  },
  {
   "cell_type": "code",
   "execution_count": 174,
   "id": "1910fa6e",
   "metadata": {
    "id": "1910fa6e"
   },
   "outputs": [],
   "source": [
    "# Import data\n",
    "df_train = pd.read_csv('espionage_data.csv')\n",
    "df_test = pd.read_csv('espionage_data_test.csv')"
   ]
  },
  {
   "cell_type": "code",
   "execution_count": 175,
   "id": "509569ee",
   "metadata": {
    "executionInfo": {
     "elapsed": 10,
     "status": "aborted",
     "timestamp": 1650483734442,
     "user": {
      "displayName": "André Oliveira",
      "userId": "17401140001147450864"
     },
     "user_tz": -60
    },
    "id": "509569ee",
    "outputId": "1d8bae32-b043-42c4-eac4-82970ebd9015"
   },
   "outputs": [
    {
     "name": "stdout",
     "output_type": "stream",
     "text": [
      "<class 'pandas.core.frame.DataFrame'>\n",
      "RangeIndex: 8000 entries, 0 to 7999\n",
      "Data columns (total 16 columns):\n",
      " #   Column                   Non-Null Count  Dtype  \n",
      "---  ------                   --------------  -----  \n",
      " 0   ID                       8000 non-null   int64  \n",
      " 1   ID_ORIGINAL              8000 non-null   int64  \n",
      " 2   Gender                   8000 non-null   object \n",
      " 3   Foreign_Citizenship      7862 non-null   object \n",
      " 4   Age                      8000 non-null   int64  \n",
      " 5   Frequent_Traveler        7923 non-null   object \n",
      " 6   Cellphone_Usage          8000 non-null   object \n",
      " 7   Household_Size           7670 non-null   float64\n",
      " 8   Spy                      8000 non-null   int64  \n",
      " 9   Satisfaction_Level       7670 non-null   float64\n",
      " 10  Occupation               7876 non-null   object \n",
      " 11  Political_Participation  7876 non-null   object \n",
      " 12  Social_Person            7924 non-null   object \n",
      " 13  Area_Residence           7924 non-null   object \n",
      " 14  Military_Service         7924 non-null   object \n",
      " 15  Household_Income         8000 non-null   int64  \n",
      "dtypes: float64(2), int64(5), object(9)\n",
      "memory usage: 1000.1+ KB\n"
     ]
    }
   ],
   "source": [
    "df_train.info()"
   ]
  },
  {
   "cell_type": "code",
   "execution_count": 176,
   "id": "b8a0d85d",
   "metadata": {
    "executionInfo": {
     "elapsed": 11,
     "status": "aborted",
     "timestamp": 1650483734443,
     "user": {
      "displayName": "André Oliveira",
      "userId": "17401140001147450864"
     },
     "user_tz": -60
    },
    "id": "b8a0d85d",
    "outputId": "07221437-66a8-42bc-d67e-fe593307ba02"
   },
   "outputs": [
    {
     "name": "stdout",
     "output_type": "stream",
     "text": [
      "<class 'pandas.core.frame.DataFrame'>\n",
      "RangeIndex: 493 entries, 0 to 492\n",
      "Data columns (total 15 columns):\n",
      " #   Column                   Non-Null Count  Dtype  \n",
      "---  ------                   --------------  -----  \n",
      " 0   ID                       493 non-null    int64  \n",
      " 1   ID_ORIGINAL              493 non-null    int64  \n",
      " 2   Gender                   493 non-null    object \n",
      " 3   Foreign_Citizenship      486 non-null    object \n",
      " 4   Age                      493 non-null    int64  \n",
      " 5   Frequent_Traveler        490 non-null    object \n",
      " 6   Cellphone_Usage          493 non-null    object \n",
      " 7   Household_Size           476 non-null    float64\n",
      " 8   Satisfaction_Level       476 non-null    float64\n",
      " 9   Occupation               489 non-null    object \n",
      " 10  Political_Participation  489 non-null    object \n",
      " 11  Social_Person            485 non-null    object \n",
      " 12  Area_Residence           485 non-null    object \n",
      " 13  Military_Service         485 non-null    object \n",
      " 14  Household_Income         457 non-null    float64\n",
      "dtypes: float64(3), int64(3), object(9)\n",
      "memory usage: 57.9+ KB\n"
     ]
    }
   ],
   "source": [
    "df_test.info()"
   ]
  },
  {
   "cell_type": "code",
   "execution_count": 177,
   "id": "0c92487a",
   "metadata": {
    "id": "0c92487a"
   },
   "outputs": [],
   "source": [
    "# Generate profiling report\n",
    "#df_train['Spy'] = df_train['Spy'].astype('float64')\n",
    "#df_train['Spy'] = df_train['Spy'].astype('object')\n",
    "#prof_train = pp.ProfileReport(df_train)\n",
    "#prof_train.to_file(output_file='output_train.html')\n",
    "\n",
    "#prof_test = pp.ProfileReport(df_test)\n",
    "#prof_test.to_file(output_file='output_test.html')"
   ]
  },
  {
   "cell_type": "code",
   "execution_count": 178,
   "id": "e0f5cf04",
   "metadata": {
    "executionInfo": {
     "elapsed": 11,
     "status": "aborted",
     "timestamp": 1650483734444,
     "user": {
      "displayName": "André Oliveira",
      "userId": "17401140001147450864"
     },
     "user_tz": -60
    },
    "id": "e0f5cf04",
    "outputId": "d8126f65-cae3-46c0-f93a-404a88e86c59"
   },
   "outputs": [
    {
     "data": {
      "text/html": [
       "<div>\n",
       "<style scoped>\n",
       "    .dataframe tbody tr th:only-of-type {\n",
       "        vertical-align: middle;\n",
       "    }\n",
       "\n",
       "    .dataframe tbody tr th {\n",
       "        vertical-align: top;\n",
       "    }\n",
       "\n",
       "    .dataframe thead th {\n",
       "        text-align: right;\n",
       "    }\n",
       "</style>\n",
       "<table border=\"1\" class=\"dataframe\">\n",
       "  <thead>\n",
       "    <tr style=\"text-align: right;\">\n",
       "      <th></th>\n",
       "      <th>ID</th>\n",
       "      <th>ID_ORIGINAL</th>\n",
       "      <th>Gender</th>\n",
       "      <th>Foreign_Citizenship</th>\n",
       "      <th>Age</th>\n",
       "      <th>Frequent_Traveler</th>\n",
       "      <th>Cellphone_Usage</th>\n",
       "      <th>Household_Size</th>\n",
       "      <th>Spy</th>\n",
       "      <th>Satisfaction_Level</th>\n",
       "      <th>Occupation</th>\n",
       "      <th>Political_Participation</th>\n",
       "      <th>Social_Person</th>\n",
       "      <th>Area_Residence</th>\n",
       "      <th>Military_Service</th>\n",
       "      <th>Household_Income</th>\n",
       "    </tr>\n",
       "  </thead>\n",
       "  <tbody>\n",
       "    <tr>\n",
       "      <th>0</th>\n",
       "      <td>1000</td>\n",
       "      <td>467329</td>\n",
       "      <td>Female</td>\n",
       "      <td>No</td>\n",
       "      <td>40</td>\n",
       "      <td>Yes</td>\n",
       "      <td>Low</td>\n",
       "      <td>1.0</td>\n",
       "      <td>1</td>\n",
       "      <td>4.0</td>\n",
       "      <td>Government</td>\n",
       "      <td>No involvement</td>\n",
       "      <td>No</td>\n",
       "      <td>City</td>\n",
       "      <td>Never</td>\n",
       "      <td>7000</td>\n",
       "    </tr>\n",
       "    <tr>\n",
       "      <th>1</th>\n",
       "      <td>1001</td>\n",
       "      <td>461212</td>\n",
       "      <td>Female</td>\n",
       "      <td>No</td>\n",
       "      <td>30</td>\n",
       "      <td>No</td>\n",
       "      <td>Low</td>\n",
       "      <td>6.0</td>\n",
       "      <td>0</td>\n",
       "      <td>1.0</td>\n",
       "      <td>Nothing</td>\n",
       "      <td>No involvement</td>\n",
       "      <td>No</td>\n",
       "      <td>City</td>\n",
       "      <td>Never</td>\n",
       "      <td>19610</td>\n",
       "    </tr>\n",
       "    <tr>\n",
       "      <th>2</th>\n",
       "      <td>1002</td>\n",
       "      <td>466216</td>\n",
       "      <td>Male</td>\n",
       "      <td>No</td>\n",
       "      <td>29</td>\n",
       "      <td>No</td>\n",
       "      <td>Low</td>\n",
       "      <td>4.0</td>\n",
       "      <td>0</td>\n",
       "      <td>1.0</td>\n",
       "      <td>Private company</td>\n",
       "      <td>Strong involvement</td>\n",
       "      <td>Yes</td>\n",
       "      <td>Country-side</td>\n",
       "      <td>Never</td>\n",
       "      <td>8261</td>\n",
       "    </tr>\n",
       "    <tr>\n",
       "      <th>3</th>\n",
       "      <td>1003</td>\n",
       "      <td>462613</td>\n",
       "      <td>Female</td>\n",
       "      <td>Yes</td>\n",
       "      <td>35</td>\n",
       "      <td>No</td>\n",
       "      <td>Average</td>\n",
       "      <td>5.0</td>\n",
       "      <td>0</td>\n",
       "      <td>1.0</td>\n",
       "      <td>Private company</td>\n",
       "      <td>No involvement</td>\n",
       "      <td>Yes</td>\n",
       "      <td>Country-side</td>\n",
       "      <td>Never</td>\n",
       "      <td>7000</td>\n",
       "    </tr>\n",
       "    <tr>\n",
       "      <th>4</th>\n",
       "      <td>1004</td>\n",
       "      <td>465709</td>\n",
       "      <td>Male</td>\n",
       "      <td>Yes</td>\n",
       "      <td>68</td>\n",
       "      <td>Yes</td>\n",
       "      <td>Average</td>\n",
       "      <td>2.0</td>\n",
       "      <td>1</td>\n",
       "      <td>4.0</td>\n",
       "      <td>Private company</td>\n",
       "      <td>Strong involvement</td>\n",
       "      <td>No</td>\n",
       "      <td>City</td>\n",
       "      <td>Never</td>\n",
       "      <td>8261</td>\n",
       "    </tr>\n",
       "  </tbody>\n",
       "</table>\n",
       "</div>"
      ],
      "text/plain": [
       "     ID  ID_ORIGINAL  Gender Foreign_Citizenship  Age Frequent_Traveler  \\\n",
       "0  1000       467329  Female                  No   40               Yes   \n",
       "1  1001       461212  Female                  No   30                No   \n",
       "2  1002       466216    Male                  No   29                No   \n",
       "3  1003       462613  Female                 Yes   35                No   \n",
       "4  1004       465709    Male                 Yes   68               Yes   \n",
       "\n",
       "  Cellphone_Usage  Household_Size  Spy  Satisfaction_Level       Occupation  \\\n",
       "0             Low             1.0    1                 4.0       Government   \n",
       "1             Low             6.0    0                 1.0          Nothing   \n",
       "2             Low             4.0    0                 1.0  Private company   \n",
       "3         Average             5.0    0                 1.0  Private company   \n",
       "4         Average             2.0    1                 4.0  Private company   \n",
       "\n",
       "  Political_Participation Social_Person Area_Residence Military_Service  \\\n",
       "0          No involvement            No           City            Never   \n",
       "1          No involvement            No           City            Never   \n",
       "2      Strong involvement           Yes   Country-side            Never   \n",
       "3          No involvement           Yes   Country-side            Never   \n",
       "4      Strong involvement            No           City            Never   \n",
       "\n",
       "   Household_Income  \n",
       "0              7000  \n",
       "1             19610  \n",
       "2              8261  \n",
       "3              7000  \n",
       "4              8261  "
      ]
     },
     "execution_count": 178,
     "metadata": {},
     "output_type": "execute_result"
    }
   ],
   "source": [
    "df_train.head()"
   ]
  },
  {
   "cell_type": "code",
   "execution_count": 179,
   "id": "ce79c0d9",
   "metadata": {
    "executionInfo": {
     "elapsed": 11,
     "status": "aborted",
     "timestamp": 1650483734444,
     "user": {
      "displayName": "André Oliveira",
      "userId": "17401140001147450864"
     },
     "user_tz": -60
    },
    "id": "ce79c0d9",
    "outputId": "8a82a454-b08f-40ff-baad-8aa8911855b1"
   },
   "outputs": [
    {
     "data": {
      "text/html": [
       "<div>\n",
       "<style scoped>\n",
       "    .dataframe tbody tr th:only-of-type {\n",
       "        vertical-align: middle;\n",
       "    }\n",
       "\n",
       "    .dataframe tbody tr th {\n",
       "        vertical-align: top;\n",
       "    }\n",
       "\n",
       "    .dataframe thead th {\n",
       "        text-align: right;\n",
       "    }\n",
       "</style>\n",
       "<table border=\"1\" class=\"dataframe\">\n",
       "  <thead>\n",
       "    <tr style=\"text-align: right;\">\n",
       "      <th></th>\n",
       "      <th>ID</th>\n",
       "      <th>ID_ORIGINAL</th>\n",
       "      <th>Gender</th>\n",
       "      <th>Foreign_Citizenship</th>\n",
       "      <th>Age</th>\n",
       "      <th>Frequent_Traveler</th>\n",
       "      <th>Cellphone_Usage</th>\n",
       "      <th>Household_Size</th>\n",
       "      <th>Satisfaction_Level</th>\n",
       "      <th>Occupation</th>\n",
       "      <th>Political_Participation</th>\n",
       "      <th>Social_Person</th>\n",
       "      <th>Area_Residence</th>\n",
       "      <th>Military_Service</th>\n",
       "      <th>Household_Income</th>\n",
       "    </tr>\n",
       "  </thead>\n",
       "  <tbody>\n",
       "    <tr>\n",
       "      <th>0</th>\n",
       "      <td>9000</td>\n",
       "      <td>460139</td>\n",
       "      <td>Male</td>\n",
       "      <td>No</td>\n",
       "      <td>26</td>\n",
       "      <td>No</td>\n",
       "      <td>Low</td>\n",
       "      <td>6.0</td>\n",
       "      <td>1.0</td>\n",
       "      <td>Private company</td>\n",
       "      <td>Unknown</td>\n",
       "      <td>Yes</td>\n",
       "      <td>City</td>\n",
       "      <td>Intervention in Libya</td>\n",
       "      <td>7566.0</td>\n",
       "    </tr>\n",
       "    <tr>\n",
       "      <th>1</th>\n",
       "      <td>9001</td>\n",
       "      <td>460648</td>\n",
       "      <td>Female</td>\n",
       "      <td>NaN</td>\n",
       "      <td>29</td>\n",
       "      <td>No</td>\n",
       "      <td>Low</td>\n",
       "      <td>1.0</td>\n",
       "      <td>3.0</td>\n",
       "      <td>Nothing</td>\n",
       "      <td>No involvement</td>\n",
       "      <td>Yes</td>\n",
       "      <td>City</td>\n",
       "      <td>Intervention in Libya</td>\n",
       "      <td>10088.0</td>\n",
       "    </tr>\n",
       "    <tr>\n",
       "      <th>2</th>\n",
       "      <td>9002</td>\n",
       "      <td>460835</td>\n",
       "      <td>Female</td>\n",
       "      <td>Yes</td>\n",
       "      <td>28</td>\n",
       "      <td>Yes</td>\n",
       "      <td>Low</td>\n",
       "      <td>1.0</td>\n",
       "      <td>3.0</td>\n",
       "      <td>Private company</td>\n",
       "      <td>Unknown</td>\n",
       "      <td>Yes</td>\n",
       "      <td>City</td>\n",
       "      <td>Intervention in Libya</td>\n",
       "      <td>0.0</td>\n",
       "    </tr>\n",
       "    <tr>\n",
       "      <th>3</th>\n",
       "      <td>9003</td>\n",
       "      <td>461613</td>\n",
       "      <td>Female</td>\n",
       "      <td>No</td>\n",
       "      <td>25</td>\n",
       "      <td>Yes</td>\n",
       "      <td>Low</td>\n",
       "      <td>4.0</td>\n",
       "      <td>1.0</td>\n",
       "      <td>Private company</td>\n",
       "      <td>Some involvement</td>\n",
       "      <td>Yes</td>\n",
       "      <td>City</td>\n",
       "      <td>Intervention in Libya</td>\n",
       "      <td>10088.0</td>\n",
       "    </tr>\n",
       "    <tr>\n",
       "      <th>4</th>\n",
       "      <td>9004</td>\n",
       "      <td>461721</td>\n",
       "      <td>Male</td>\n",
       "      <td>No</td>\n",
       "      <td>26</td>\n",
       "      <td>Yes</td>\n",
       "      <td>Low</td>\n",
       "      <td>5.0</td>\n",
       "      <td>1.0</td>\n",
       "      <td>Private company</td>\n",
       "      <td>Strong involvement</td>\n",
       "      <td>Yes</td>\n",
       "      <td>City</td>\n",
       "      <td>Intervention in Libya</td>\n",
       "      <td>8827.0</td>\n",
       "    </tr>\n",
       "  </tbody>\n",
       "</table>\n",
       "</div>"
      ],
      "text/plain": [
       "     ID  ID_ORIGINAL  Gender Foreign_Citizenship  Age Frequent_Traveler  \\\n",
       "0  9000       460139    Male                  No   26                No   \n",
       "1  9001       460648  Female                 NaN   29                No   \n",
       "2  9002       460835  Female                 Yes   28               Yes   \n",
       "3  9003       461613  Female                  No   25               Yes   \n",
       "4  9004       461721    Male                  No   26               Yes   \n",
       "\n",
       "  Cellphone_Usage  Household_Size  Satisfaction_Level       Occupation  \\\n",
       "0             Low             6.0                 1.0  Private company   \n",
       "1             Low             1.0                 3.0          Nothing   \n",
       "2             Low             1.0                 3.0  Private company   \n",
       "3             Low             4.0                 1.0  Private company   \n",
       "4             Low             5.0                 1.0  Private company   \n",
       "\n",
       "  Political_Participation Social_Person Area_Residence       Military_Service  \\\n",
       "0                 Unknown           Yes           City  Intervention in Libya   \n",
       "1          No involvement           Yes           City  Intervention in Libya   \n",
       "2                 Unknown           Yes           City  Intervention in Libya   \n",
       "3        Some involvement           Yes           City  Intervention in Libya   \n",
       "4      Strong involvement           Yes           City  Intervention in Libya   \n",
       "\n",
       "   Household_Income  \n",
       "0            7566.0  \n",
       "1           10088.0  \n",
       "2               0.0  \n",
       "3           10088.0  \n",
       "4            8827.0  "
      ]
     },
     "execution_count": 179,
     "metadata": {},
     "output_type": "execute_result"
    }
   ],
   "source": [
    "df_test.head()"
   ]
  },
  {
   "cell_type": "markdown",
   "id": "986afa96",
   "metadata": {
    "id": "986afa96"
   },
   "source": [
    "## Exploration & Understanding"
   ]
  },
  {
   "cell_type": "code",
   "execution_count": 180,
   "id": "9eaa3a2e",
   "metadata": {
    "id": "9eaa3a2e",
    "outputId": "79d5b49e-8001-4fb8-ebdd-6450a1a3d26e"
   },
   "outputs": [
    {
     "name": "stdout",
     "output_type": "stream",
     "text": [
      "ID                          0\n",
      "ID_ORIGINAL                 0\n",
      "Gender                      0\n",
      "Foreign_Citizenship         7\n",
      "Age                         0\n",
      "Frequent_Traveler           3\n",
      "Cellphone_Usage             0\n",
      "Household_Size             17\n",
      "Satisfaction_Level         17\n",
      "Occupation                  4\n",
      "Political_Participation     4\n",
      "Social_Person               8\n",
      "Area_Residence              8\n",
      "Military_Service            8\n",
      "Household_Income           36\n",
      "dtype: int64\n"
     ]
    }
   ],
   "source": [
    "# Check missing values\n",
    "print(df_test.isna().sum())"
   ]
  },
  {
   "cell_type": "code",
   "execution_count": 181,
   "id": "91fc3b8d",
   "metadata": {
    "id": "91fc3b8d",
    "outputId": "5af667e8-12e4-47e1-adc1-902b280abf08"
   },
   "outputs": [
    {
     "name": "stdout",
     "output_type": "stream",
     "text": [
      "ID                           0\n",
      "ID_ORIGINAL                  0\n",
      "Gender                       0\n",
      "Foreign_Citizenship        138\n",
      "Age                          0\n",
      "Frequent_Traveler           77\n",
      "Cellphone_Usage              0\n",
      "Household_Size             330\n",
      "Spy                          0\n",
      "Satisfaction_Level         330\n",
      "Occupation                 124\n",
      "Political_Participation    124\n",
      "Social_Person               76\n",
      "Area_Residence              76\n",
      "Military_Service            76\n",
      "Household_Income             0\n",
      "dtype: int64\n"
     ]
    }
   ],
   "source": [
    "# Check missing values\n",
    "print(df_train.isna().sum())"
   ]
  },
  {
   "cell_type": "code",
   "execution_count": 182,
   "id": "e12586c1",
   "metadata": {
    "executionInfo": {
     "elapsed": 11,
     "status": "aborted",
     "timestamp": 1650483734444,
     "user": {
      "displayName": "André Oliveira",
      "userId": "17401140001147450864"
     },
     "user_tz": -60
    },
    "id": "e12586c1",
    "outputId": "e776388c-ff1d-4faf-e844-859729898a80"
   },
   "outputs": [
    {
     "name": "stdout",
     "output_type": "stream",
     "text": [
      "Empty DataFrame\n",
      "Columns: [ID, ID_ORIGINAL, Gender, Foreign_Citizenship, Age, Frequent_Traveler, Cellphone_Usage, Household_Size, Spy, Satisfaction_Level, Occupation, Political_Participation, Social_Person, Area_Residence, Military_Service, Household_Income]\n",
      "Index: []\n",
      "Empty DataFrame\n",
      "Columns: [ID, ID_ORIGINAL, Gender, Foreign_Citizenship, Age, Frequent_Traveler, Cellphone_Usage, Household_Size, Satisfaction_Level, Occupation, Political_Participation, Social_Person, Area_Residence, Military_Service, Household_Income]\n",
      "Index: []\n"
     ]
    }
   ],
   "source": [
    "\n",
    "\n",
    "# Check for duplicates\n",
    "print(df_train[df_train.duplicated()])\n",
    "print(df_test[df_test.duplicated()])"
   ]
  },
  {
   "cell_type": "code",
   "execution_count": 183,
   "id": "841ed0a6",
   "metadata": {
    "executionInfo": {
     "elapsed": 12,
     "status": "aborted",
     "timestamp": 1650483734445,
     "user": {
      "displayName": "André Oliveira",
      "userId": "17401140001147450864"
     },
     "user_tz": -60
    },
    "id": "841ed0a6",
    "outputId": "b229a056-4a58-4a48-8bb0-b30e39ca81a5"
   },
   "outputs": [
    {
     "name": "stdout",
     "output_type": "stream",
     "text": [
      "--- TRAIN ---\n",
      " Foreign_Citizenship        1.7250\n",
      "Frequent_Traveler          0.9625\n",
      "Household_Size             4.1250\n",
      "Satisfaction_Level         4.1250\n",
      "Occupation                 1.5500\n",
      "Political_Participation    1.5500\n",
      "Social_Person              0.9500\n",
      "Area_Residence             0.9500\n",
      "Military_Service           0.9500\n",
      "dtype: float64\n",
      "\n",
      "--- TEST ---\n",
      " Foreign_Citizenship        1.419878\n",
      "Frequent_Traveler          0.608519\n",
      "Household_Size             3.448276\n",
      "Satisfaction_Level         3.448276\n",
      "Occupation                 0.811359\n",
      "Political_Participation    0.811359\n",
      "Social_Person              1.622718\n",
      "Area_Residence             1.622718\n",
      "Military_Service           1.622718\n",
      "Household_Income           7.302231\n",
      "dtype: float64\n"
     ]
    }
   ],
   "source": [
    "# Check for missing values\n",
    "train_null = df_train.isna().sum()/len(df_train)*100\n",
    "print('--- TRAIN ---\\n',train_null[train_null > 0])\n",
    "\n",
    "test_null = df_test.isna().sum()/len(df_test)*100\n",
    "print('\\n--- TEST ---\\n',test_null[test_null > 0])\n",
    "\n",
    "train_nulls = train_null[train_null > 0].index.tolist()\n",
    "test_nulls = test_null[test_null > 0].index.tolist()"
   ]
  },
  {
   "cell_type": "markdown",
   "id": "9d2c812e",
   "metadata": {
    "id": "9d2c812e"
   },
   "source": [
    "## Pre-processing"
   ]
  },
  {
   "cell_type": "code",
   "execution_count": 184,
   "id": "2f895c24",
   "metadata": {
    "id": "2f895c24"
   },
   "outputs": [],
   "source": [
    "# Label encoding\n",
    "def encode_features(df,s):\n",
    "    le = preprocessing.LabelEncoder()\n",
    "    le.fit(df[s])\n",
    "    df['CD_'+s] = le.transform(df[s])\n",
    "    return le\n",
    "\n",
    "# Pre-process data\n",
    "def prepare_data(df_train,df):\n",
    "    df_prep = df.copy()\n",
    "        \n",
    "    ## MISSING VALUES ##\n",
    "    # Fill missing values\n",
    "    df_prep['Area_Residence'] = df_prep['Area_Residence'].fillna('Unknown')\n",
    "    df_prep['Foreign_Citizenship'] = df_prep['Foreign_Citizenship'].fillna('Unknown')\n",
    "    df_prep['Frequent_Traveler'] = df_prep['Frequent_Traveler'].fillna('Unknown')    \n",
    "    df_prep['Occupation'] = df_prep['Occupation'].fillna('Unknown')\n",
    "    df_prep['Political_Participation'] = df_prep['Political_Participation'].fillna('Unknown')    \n",
    "    df_prep['Military_Service'] = df_prep['Military_Service'].fillna('Unknown')\n",
    "    df_prep['Social_Person'] = df_prep['Social_Person'].fillna('Unknown')\n",
    "    \n",
    "    # TO DO: Check if this is a good solution\n",
    "    df_prep['Household_Size'] = df_prep['Household_Size'].fillna('1')    \n",
    "    df_prep['Satisfaction_Level'] = df_prep['Satisfaction_Level'].fillna(0)\n",
    "    df_prep['Household_Income'] = df_prep['Household_Income'].fillna(0)\n",
    "    \n",
    "    # Drop columns with missing values\n",
    "    #df_prep.dropna(subset=['Household_Size','Satisfaction_Level','Household_Income'],inplace=True)\n",
    "\n",
    "    ## DATA TYPES ##\n",
    "    df_prep['Household_Income'] = df_prep['Household_Income'].astype('float64')    \n",
    "    df_prep['Household_Size'] = df_prep['Household_Size'].astype('float64')   \n",
    "    df_prep['Satisfaction_Level'] = df_prep['Satisfaction_Level'].astype('float64')    \n",
    "    df_prep['ID_ORIGINAL'] = df_prep['ID_ORIGINAL'].astype('int')  \n",
    "    \n",
    "    # Get descriptive statistics\n",
    "    desc = df_train.describe()\n",
    "\n",
    "    # Bin quantitative variables\n",
    "    desc.loc['min'] = -1\n",
    "\n",
    "    bin_ft = desc.columns.tolist()\n",
    "    bin_ft.remove('ID')\n",
    "    bin_ft.remove('ID_ORIGINAL')\n",
    "    bin_ft.remove('Spy')\n",
    "\n",
    "    for i in bin_ft:\n",
    "        df_prep[i+'_BIN'] = pd.cut(x=df_prep[i], bins=[desc[i]['min'],desc[i]['25%'],desc[i]['50%'],desc[i]['75%'],desc[i]['max']], labels=['<25','25-50','50-75','>75'])    \n",
    "    \n",
    "    \n",
    "    ## ENCODING ##\n",
    "    enc_cols = ['Gender', 'Foreign_Citizenship','Frequent_Traveler', 'Cellphone_Usage',\n",
    "                'Occupation', 'Political_Participation','Social_Person', 'Area_Residence', 'Military_Service',\n",
    "               'Household_Size_BIN', 'Satisfaction_Level_BIN', 'Household_Income_BIN','Age_BIN']\n",
    "    for i in enc_cols:\n",
    "        encode_features(df_prep,i)\n",
    "\n",
    "\n",
    "    ## FILTER ##\n",
    "    feature_list = ['Age','Household_Size', 'Satisfaction_Level',\n",
    "       'Household_Income', 'CD_Gender', 'CD_Foreign_Citizenship',\n",
    "       'CD_Frequent_Traveler', 'CD_Cellphone_Usage','CD_Occupation', \n",
    "       'CD_Political_Participation', 'CD_Social_Person','CD_Area_Residence', 'CD_Military_Service',\n",
    "        'CD_Household_Size_BIN', 'CD_Satisfaction_Level_BIN', 'CD_Household_Income_BIN','CD_Age_BIN']\n",
    "    \n",
    "    X = df_prep[feature_list]\n",
    "    \n",
    "    if 'Spy' in df_prep.columns.tolist():\n",
    "        y = df_prep['Spy']\n",
    "        \n",
    "        # Split train dataset into train and test sets\n",
    "        X_train, X_test, y_train, y_test = train_test_split(X, y, test_size=0.33, random_state=42, stratify=y)\n",
    "    else:\n",
    "        y = []\n",
    "        X_train = []\n",
    "        X_test = []\n",
    "        y_train = []\n",
    "        y_test = []\n",
    "    \n",
    "\n",
    "    return df_prep, X, y, X_train, X_test, y_train, y_test"
   ]
  },
  {
   "cell_type": "markdown",
   "id": "39d883ec",
   "metadata": {
    "id": "39d883ec"
   },
   "source": [
    "# Summary Statistics"
   ]
  },
  {
   "cell_type": "code",
   "execution_count": 185,
   "id": "b2386ff8",
   "metadata": {
    "id": "b2386ff8",
    "outputId": "3dd32238-4c5e-4847-9da8-b4fc9ff2c34d"
   },
   "outputs": [
    {
     "data": {
      "text/html": [
       "<div>\n",
       "<style scoped>\n",
       "    .dataframe tbody tr th:only-of-type {\n",
       "        vertical-align: middle;\n",
       "    }\n",
       "\n",
       "    .dataframe tbody tr th {\n",
       "        vertical-align: top;\n",
       "    }\n",
       "\n",
       "    .dataframe thead th {\n",
       "        text-align: right;\n",
       "    }\n",
       "</style>\n",
       "<table border=\"1\" class=\"dataframe\">\n",
       "  <thead>\n",
       "    <tr style=\"text-align: right;\">\n",
       "      <th></th>\n",
       "      <th>count</th>\n",
       "      <th>unique</th>\n",
       "      <th>top</th>\n",
       "      <th>freq</th>\n",
       "      <th>mean</th>\n",
       "      <th>std</th>\n",
       "      <th>min</th>\n",
       "      <th>25%</th>\n",
       "      <th>50%</th>\n",
       "      <th>75%</th>\n",
       "      <th>max</th>\n",
       "    </tr>\n",
       "  </thead>\n",
       "  <tbody>\n",
       "    <tr>\n",
       "      <th>ID</th>\n",
       "      <td>493.0</td>\n",
       "      <td>NaN</td>\n",
       "      <td>NaN</td>\n",
       "      <td>NaN</td>\n",
       "      <td>9246.0</td>\n",
       "      <td>142.461106</td>\n",
       "      <td>9000.0</td>\n",
       "      <td>9123.0</td>\n",
       "      <td>9246.0</td>\n",
       "      <td>9369.0</td>\n",
       "      <td>9492.0</td>\n",
       "    </tr>\n",
       "    <tr>\n",
       "      <th>ID_ORIGINAL</th>\n",
       "      <td>493.0</td>\n",
       "      <td>NaN</td>\n",
       "      <td>NaN</td>\n",
       "      <td>NaN</td>\n",
       "      <td>466423.752535</td>\n",
       "      <td>5122.591784</td>\n",
       "      <td>459005.0</td>\n",
       "      <td>462368.0</td>\n",
       "      <td>465546.0</td>\n",
       "      <td>469232.0</td>\n",
       "      <td>477959.0</td>\n",
       "    </tr>\n",
       "    <tr>\n",
       "      <th>Gender</th>\n",
       "      <td>493</td>\n",
       "      <td>2</td>\n",
       "      <td>Male</td>\n",
       "      <td>248</td>\n",
       "      <td>NaN</td>\n",
       "      <td>NaN</td>\n",
       "      <td>NaN</td>\n",
       "      <td>NaN</td>\n",
       "      <td>NaN</td>\n",
       "      <td>NaN</td>\n",
       "      <td>NaN</td>\n",
       "    </tr>\n",
       "    <tr>\n",
       "      <th>Foreign_Citizenship</th>\n",
       "      <td>486</td>\n",
       "      <td>2</td>\n",
       "      <td>Yes</td>\n",
       "      <td>270</td>\n",
       "      <td>NaN</td>\n",
       "      <td>NaN</td>\n",
       "      <td>NaN</td>\n",
       "      <td>NaN</td>\n",
       "      <td>NaN</td>\n",
       "      <td>NaN</td>\n",
       "      <td>NaN</td>\n",
       "    </tr>\n",
       "    <tr>\n",
       "      <th>Age</th>\n",
       "      <td>493.0</td>\n",
       "      <td>NaN</td>\n",
       "      <td>NaN</td>\n",
       "      <td>NaN</td>\n",
       "      <td>42.432049</td>\n",
       "      <td>16.949769</td>\n",
       "      <td>18.0</td>\n",
       "      <td>29.0</td>\n",
       "      <td>40.0</td>\n",
       "      <td>51.0</td>\n",
       "      <td>88.0</td>\n",
       "    </tr>\n",
       "    <tr>\n",
       "      <th>Frequent_Traveler</th>\n",
       "      <td>490</td>\n",
       "      <td>2</td>\n",
       "      <td>Yes</td>\n",
       "      <td>306</td>\n",
       "      <td>NaN</td>\n",
       "      <td>NaN</td>\n",
       "      <td>NaN</td>\n",
       "      <td>NaN</td>\n",
       "      <td>NaN</td>\n",
       "      <td>NaN</td>\n",
       "      <td>NaN</td>\n",
       "    </tr>\n",
       "    <tr>\n",
       "      <th>Cellphone_Usage</th>\n",
       "      <td>493</td>\n",
       "      <td>3</td>\n",
       "      <td>Low</td>\n",
       "      <td>305</td>\n",
       "      <td>NaN</td>\n",
       "      <td>NaN</td>\n",
       "      <td>NaN</td>\n",
       "      <td>NaN</td>\n",
       "      <td>NaN</td>\n",
       "      <td>NaN</td>\n",
       "      <td>NaN</td>\n",
       "    </tr>\n",
       "    <tr>\n",
       "      <th>Household_Size</th>\n",
       "      <td>476.0</td>\n",
       "      <td>NaN</td>\n",
       "      <td>NaN</td>\n",
       "      <td>NaN</td>\n",
       "      <td>2.955882</td>\n",
       "      <td>1.592134</td>\n",
       "      <td>1.0</td>\n",
       "      <td>2.0</td>\n",
       "      <td>3.0</td>\n",
       "      <td>4.0</td>\n",
       "      <td>9.0</td>\n",
       "    </tr>\n",
       "    <tr>\n",
       "      <th>Satisfaction_Level</th>\n",
       "      <td>476.0</td>\n",
       "      <td>NaN</td>\n",
       "      <td>NaN</td>\n",
       "      <td>NaN</td>\n",
       "      <td>2.493697</td>\n",
       "      <td>1.59933</td>\n",
       "      <td>1.0</td>\n",
       "      <td>1.0</td>\n",
       "      <td>2.0</td>\n",
       "      <td>3.0</td>\n",
       "      <td>9.0</td>\n",
       "    </tr>\n",
       "    <tr>\n",
       "      <th>Occupation</th>\n",
       "      <td>489</td>\n",
       "      <td>6</td>\n",
       "      <td>Private company</td>\n",
       "      <td>349</td>\n",
       "      <td>NaN</td>\n",
       "      <td>NaN</td>\n",
       "      <td>NaN</td>\n",
       "      <td>NaN</td>\n",
       "      <td>NaN</td>\n",
       "      <td>NaN</td>\n",
       "      <td>NaN</td>\n",
       "    </tr>\n",
       "    <tr>\n",
       "      <th>Political_Participation</th>\n",
       "      <td>489</td>\n",
       "      <td>4</td>\n",
       "      <td>No involvement</td>\n",
       "      <td>178</td>\n",
       "      <td>NaN</td>\n",
       "      <td>NaN</td>\n",
       "      <td>NaN</td>\n",
       "      <td>NaN</td>\n",
       "      <td>NaN</td>\n",
       "      <td>NaN</td>\n",
       "      <td>NaN</td>\n",
       "    </tr>\n",
       "    <tr>\n",
       "      <th>Social_Person</th>\n",
       "      <td>485</td>\n",
       "      <td>2</td>\n",
       "      <td>No</td>\n",
       "      <td>305</td>\n",
       "      <td>NaN</td>\n",
       "      <td>NaN</td>\n",
       "      <td>NaN</td>\n",
       "      <td>NaN</td>\n",
       "      <td>NaN</td>\n",
       "      <td>NaN</td>\n",
       "      <td>NaN</td>\n",
       "    </tr>\n",
       "    <tr>\n",
       "      <th>Area_Residence</th>\n",
       "      <td>485</td>\n",
       "      <td>2</td>\n",
       "      <td>City</td>\n",
       "      <td>432</td>\n",
       "      <td>NaN</td>\n",
       "      <td>NaN</td>\n",
       "      <td>NaN</td>\n",
       "      <td>NaN</td>\n",
       "      <td>NaN</td>\n",
       "      <td>NaN</td>\n",
       "      <td>NaN</td>\n",
       "    </tr>\n",
       "    <tr>\n",
       "      <th>Military_Service</th>\n",
       "      <td>485</td>\n",
       "      <td>4</td>\n",
       "      <td>Never</td>\n",
       "      <td>426</td>\n",
       "      <td>NaN</td>\n",
       "      <td>NaN</td>\n",
       "      <td>NaN</td>\n",
       "      <td>NaN</td>\n",
       "      <td>NaN</td>\n",
       "      <td>NaN</td>\n",
       "      <td>NaN</td>\n",
       "    </tr>\n",
       "    <tr>\n",
       "      <th>Household_Income</th>\n",
       "      <td>457.0</td>\n",
       "      <td>NaN</td>\n",
       "      <td>NaN</td>\n",
       "      <td>NaN</td>\n",
       "      <td>3123.527352</td>\n",
       "      <td>3948.088253</td>\n",
       "      <td>0.0</td>\n",
       "      <td>0.0</td>\n",
       "      <td>1261.0</td>\n",
       "      <td>5044.0</td>\n",
       "      <td>17654.0</td>\n",
       "    </tr>\n",
       "  </tbody>\n",
       "</table>\n",
       "</div>"
      ],
      "text/plain": [
       "                         count unique              top freq           mean  \\\n",
       "ID                       493.0    NaN              NaN  NaN         9246.0   \n",
       "ID_ORIGINAL              493.0    NaN              NaN  NaN  466423.752535   \n",
       "Gender                     493      2             Male  248            NaN   \n",
       "Foreign_Citizenship        486      2              Yes  270            NaN   \n",
       "Age                      493.0    NaN              NaN  NaN      42.432049   \n",
       "Frequent_Traveler          490      2              Yes  306            NaN   \n",
       "Cellphone_Usage            493      3              Low  305            NaN   \n",
       "Household_Size           476.0    NaN              NaN  NaN       2.955882   \n",
       "Satisfaction_Level       476.0    NaN              NaN  NaN       2.493697   \n",
       "Occupation                 489      6  Private company  349            NaN   \n",
       "Political_Participation    489      4   No involvement  178            NaN   \n",
       "Social_Person              485      2               No  305            NaN   \n",
       "Area_Residence             485      2             City  432            NaN   \n",
       "Military_Service           485      4            Never  426            NaN   \n",
       "Household_Income         457.0    NaN              NaN  NaN    3123.527352   \n",
       "\n",
       "                                 std       min       25%       50%       75%  \\\n",
       "ID                        142.461106    9000.0    9123.0    9246.0    9369.0   \n",
       "ID_ORIGINAL              5122.591784  459005.0  462368.0  465546.0  469232.0   \n",
       "Gender                           NaN       NaN       NaN       NaN       NaN   \n",
       "Foreign_Citizenship              NaN       NaN       NaN       NaN       NaN   \n",
       "Age                        16.949769      18.0      29.0      40.0      51.0   \n",
       "Frequent_Traveler                NaN       NaN       NaN       NaN       NaN   \n",
       "Cellphone_Usage                  NaN       NaN       NaN       NaN       NaN   \n",
       "Household_Size              1.592134       1.0       2.0       3.0       4.0   \n",
       "Satisfaction_Level           1.59933       1.0       1.0       2.0       3.0   \n",
       "Occupation                       NaN       NaN       NaN       NaN       NaN   \n",
       "Political_Participation          NaN       NaN       NaN       NaN       NaN   \n",
       "Social_Person                    NaN       NaN       NaN       NaN       NaN   \n",
       "Area_Residence                   NaN       NaN       NaN       NaN       NaN   \n",
       "Military_Service                 NaN       NaN       NaN       NaN       NaN   \n",
       "Household_Income         3948.088253       0.0       0.0    1261.0    5044.0   \n",
       "\n",
       "                              max  \n",
       "ID                         9492.0  \n",
       "ID_ORIGINAL              477959.0  \n",
       "Gender                        NaN  \n",
       "Foreign_Citizenship           NaN  \n",
       "Age                          88.0  \n",
       "Frequent_Traveler             NaN  \n",
       "Cellphone_Usage               NaN  \n",
       "Household_Size                9.0  \n",
       "Satisfaction_Level            9.0  \n",
       "Occupation                    NaN  \n",
       "Political_Participation       NaN  \n",
       "Social_Person                 NaN  \n",
       "Area_Residence                NaN  \n",
       "Military_Service              NaN  \n",
       "Household_Income          17654.0  "
      ]
     },
     "execution_count": 185,
     "metadata": {},
     "output_type": "execute_result"
    }
   ],
   "source": [
    "# Summary statistics for all variables data Test\n",
    "df_test.describe(include='all').T"
   ]
  },
  {
   "cell_type": "code",
   "execution_count": 186,
   "id": "dcf38506",
   "metadata": {
    "id": "dcf38506",
    "outputId": "a0758b1c-175a-4a6e-bae2-9110bb54ff7f"
   },
   "outputs": [
    {
     "data": {
      "text/html": [
       "<div>\n",
       "<style scoped>\n",
       "    .dataframe tbody tr th:only-of-type {\n",
       "        vertical-align: middle;\n",
       "    }\n",
       "\n",
       "    .dataframe tbody tr th {\n",
       "        vertical-align: top;\n",
       "    }\n",
       "\n",
       "    .dataframe thead th {\n",
       "        text-align: right;\n",
       "    }\n",
       "</style>\n",
       "<table border=\"1\" class=\"dataframe\">\n",
       "  <thead>\n",
       "    <tr style=\"text-align: right;\">\n",
       "      <th></th>\n",
       "      <th>count</th>\n",
       "      <th>unique</th>\n",
       "      <th>top</th>\n",
       "      <th>freq</th>\n",
       "      <th>mean</th>\n",
       "      <th>std</th>\n",
       "      <th>min</th>\n",
       "      <th>25%</th>\n",
       "      <th>50%</th>\n",
       "      <th>75%</th>\n",
       "      <th>max</th>\n",
       "    </tr>\n",
       "  </thead>\n",
       "  <tbody>\n",
       "    <tr>\n",
       "      <th>ID</th>\n",
       "      <td>8000.0</td>\n",
       "      <td>NaN</td>\n",
       "      <td>NaN</td>\n",
       "      <td>NaN</td>\n",
       "      <td>4999.5</td>\n",
       "      <td>2309.54541</td>\n",
       "      <td>1000.0</td>\n",
       "      <td>2999.75</td>\n",
       "      <td>4999.5</td>\n",
       "      <td>6999.25</td>\n",
       "      <td>8999.0</td>\n",
       "    </tr>\n",
       "    <tr>\n",
       "      <th>ID_ORIGINAL</th>\n",
       "      <td>8000.0</td>\n",
       "      <td>NaN</td>\n",
       "      <td>NaN</td>\n",
       "      <td>NaN</td>\n",
       "      <td>463456.46225</td>\n",
       "      <td>2585.043875</td>\n",
       "      <td>458982.0</td>\n",
       "      <td>461226.75</td>\n",
       "      <td>463448.5</td>\n",
       "      <td>465716.25</td>\n",
       "      <td>467974.0</td>\n",
       "    </tr>\n",
       "    <tr>\n",
       "      <th>Gender</th>\n",
       "      <td>8000</td>\n",
       "      <td>2</td>\n",
       "      <td>Male</td>\n",
       "      <td>4392</td>\n",
       "      <td>NaN</td>\n",
       "      <td>NaN</td>\n",
       "      <td>NaN</td>\n",
       "      <td>NaN</td>\n",
       "      <td>NaN</td>\n",
       "      <td>NaN</td>\n",
       "      <td>NaN</td>\n",
       "    </tr>\n",
       "    <tr>\n",
       "      <th>Foreign_Citizenship</th>\n",
       "      <td>7862</td>\n",
       "      <td>2</td>\n",
       "      <td>Yes</td>\n",
       "      <td>4632</td>\n",
       "      <td>NaN</td>\n",
       "      <td>NaN</td>\n",
       "      <td>NaN</td>\n",
       "      <td>NaN</td>\n",
       "      <td>NaN</td>\n",
       "      <td>NaN</td>\n",
       "      <td>NaN</td>\n",
       "    </tr>\n",
       "    <tr>\n",
       "      <th>Age</th>\n",
       "      <td>8000.0</td>\n",
       "      <td>NaN</td>\n",
       "      <td>NaN</td>\n",
       "      <td>NaN</td>\n",
       "      <td>43.576625</td>\n",
       "      <td>16.704319</td>\n",
       "      <td>18.0</td>\n",
       "      <td>31.0</td>\n",
       "      <td>41.0</td>\n",
       "      <td>53.0</td>\n",
       "      <td>89.0</td>\n",
       "    </tr>\n",
       "    <tr>\n",
       "      <th>Frequent_Traveler</th>\n",
       "      <td>7923</td>\n",
       "      <td>2</td>\n",
       "      <td>Yes</td>\n",
       "      <td>4938</td>\n",
       "      <td>NaN</td>\n",
       "      <td>NaN</td>\n",
       "      <td>NaN</td>\n",
       "      <td>NaN</td>\n",
       "      <td>NaN</td>\n",
       "      <td>NaN</td>\n",
       "      <td>NaN</td>\n",
       "    </tr>\n",
       "    <tr>\n",
       "      <th>Cellphone_Usage</th>\n",
       "      <td>8000</td>\n",
       "      <td>3</td>\n",
       "      <td>Low</td>\n",
       "      <td>4815</td>\n",
       "      <td>NaN</td>\n",
       "      <td>NaN</td>\n",
       "      <td>NaN</td>\n",
       "      <td>NaN</td>\n",
       "      <td>NaN</td>\n",
       "      <td>NaN</td>\n",
       "      <td>NaN</td>\n",
       "    </tr>\n",
       "    <tr>\n",
       "      <th>Household_Size</th>\n",
       "      <td>7670.0</td>\n",
       "      <td>NaN</td>\n",
       "      <td>NaN</td>\n",
       "      <td>NaN</td>\n",
       "      <td>2.844329</td>\n",
       "      <td>1.527431</td>\n",
       "      <td>1.0</td>\n",
       "      <td>2.0</td>\n",
       "      <td>3.0</td>\n",
       "      <td>4.0</td>\n",
       "      <td>9.0</td>\n",
       "    </tr>\n",
       "    <tr>\n",
       "      <th>Spy</th>\n",
       "      <td>8000.0</td>\n",
       "      <td>NaN</td>\n",
       "      <td>NaN</td>\n",
       "      <td>NaN</td>\n",
       "      <td>0.477625</td>\n",
       "      <td>0.49953</td>\n",
       "      <td>0.0</td>\n",
       "      <td>0.0</td>\n",
       "      <td>0.0</td>\n",
       "      <td>1.0</td>\n",
       "      <td>1.0</td>\n",
       "    </tr>\n",
       "    <tr>\n",
       "      <th>Satisfaction_Level</th>\n",
       "      <td>7670.0</td>\n",
       "      <td>NaN</td>\n",
       "      <td>NaN</td>\n",
       "      <td>NaN</td>\n",
       "      <td>2.641851</td>\n",
       "      <td>1.711686</td>\n",
       "      <td>1.0</td>\n",
       "      <td>1.0</td>\n",
       "      <td>2.0</td>\n",
       "      <td>4.0</td>\n",
       "      <td>9.0</td>\n",
       "    </tr>\n",
       "    <tr>\n",
       "      <th>Occupation</th>\n",
       "      <td>7876</td>\n",
       "      <td>6</td>\n",
       "      <td>Private company</td>\n",
       "      <td>5444</td>\n",
       "      <td>NaN</td>\n",
       "      <td>NaN</td>\n",
       "      <td>NaN</td>\n",
       "      <td>NaN</td>\n",
       "      <td>NaN</td>\n",
       "      <td>NaN</td>\n",
       "      <td>NaN</td>\n",
       "    </tr>\n",
       "    <tr>\n",
       "      <th>Political_Participation</th>\n",
       "      <td>7876</td>\n",
       "      <td>4</td>\n",
       "      <td>No involvement</td>\n",
       "      <td>3125</td>\n",
       "      <td>NaN</td>\n",
       "      <td>NaN</td>\n",
       "      <td>NaN</td>\n",
       "      <td>NaN</td>\n",
       "      <td>NaN</td>\n",
       "      <td>NaN</td>\n",
       "      <td>NaN</td>\n",
       "    </tr>\n",
       "    <tr>\n",
       "      <th>Social_Person</th>\n",
       "      <td>7924</td>\n",
       "      <td>2</td>\n",
       "      <td>No</td>\n",
       "      <td>5211</td>\n",
       "      <td>NaN</td>\n",
       "      <td>NaN</td>\n",
       "      <td>NaN</td>\n",
       "      <td>NaN</td>\n",
       "      <td>NaN</td>\n",
       "      <td>NaN</td>\n",
       "      <td>NaN</td>\n",
       "    </tr>\n",
       "    <tr>\n",
       "      <th>Area_Residence</th>\n",
       "      <td>7924</td>\n",
       "      <td>2</td>\n",
       "      <td>City</td>\n",
       "      <td>6838</td>\n",
       "      <td>NaN</td>\n",
       "      <td>NaN</td>\n",
       "      <td>NaN</td>\n",
       "      <td>NaN</td>\n",
       "      <td>NaN</td>\n",
       "      <td>NaN</td>\n",
       "      <td>NaN</td>\n",
       "    </tr>\n",
       "    <tr>\n",
       "      <th>Military_Service</th>\n",
       "      <td>7924</td>\n",
       "      <td>4</td>\n",
       "      <td>Never</td>\n",
       "      <td>7537</td>\n",
       "      <td>NaN</td>\n",
       "      <td>NaN</td>\n",
       "      <td>NaN</td>\n",
       "      <td>NaN</td>\n",
       "      <td>NaN</td>\n",
       "      <td>NaN</td>\n",
       "      <td>NaN</td>\n",
       "    </tr>\n",
       "    <tr>\n",
       "      <th>Household_Income</th>\n",
       "      <td>8000.0</td>\n",
       "      <td>NaN</td>\n",
       "      <td>NaN</td>\n",
       "      <td>NaN</td>\n",
       "      <td>9985.575125</td>\n",
       "      <td>4190.830154</td>\n",
       "      <td>7000.0</td>\n",
       "      <td>7000.0</td>\n",
       "      <td>8261.0</td>\n",
       "      <td>12044.0</td>\n",
       "      <td>24654.0</td>\n",
       "    </tr>\n",
       "  </tbody>\n",
       "</table>\n",
       "</div>"
      ],
      "text/plain": [
       "                          count unique              top  freq          mean  \\\n",
       "ID                       8000.0    NaN              NaN   NaN        4999.5   \n",
       "ID_ORIGINAL              8000.0    NaN              NaN   NaN  463456.46225   \n",
       "Gender                     8000      2             Male  4392           NaN   \n",
       "Foreign_Citizenship        7862      2              Yes  4632           NaN   \n",
       "Age                      8000.0    NaN              NaN   NaN     43.576625   \n",
       "Frequent_Traveler          7923      2              Yes  4938           NaN   \n",
       "Cellphone_Usage            8000      3              Low  4815           NaN   \n",
       "Household_Size           7670.0    NaN              NaN   NaN      2.844329   \n",
       "Spy                      8000.0    NaN              NaN   NaN      0.477625   \n",
       "Satisfaction_Level       7670.0    NaN              NaN   NaN      2.641851   \n",
       "Occupation                 7876      6  Private company  5444           NaN   \n",
       "Political_Participation    7876      4   No involvement  3125           NaN   \n",
       "Social_Person              7924      2               No  5211           NaN   \n",
       "Area_Residence             7924      2             City  6838           NaN   \n",
       "Military_Service           7924      4            Never  7537           NaN   \n",
       "Household_Income         8000.0    NaN              NaN   NaN   9985.575125   \n",
       "\n",
       "                                 std       min        25%       50%  \\\n",
       "ID                        2309.54541    1000.0    2999.75    4999.5   \n",
       "ID_ORIGINAL              2585.043875  458982.0  461226.75  463448.5   \n",
       "Gender                           NaN       NaN        NaN       NaN   \n",
       "Foreign_Citizenship              NaN       NaN        NaN       NaN   \n",
       "Age                        16.704319      18.0       31.0      41.0   \n",
       "Frequent_Traveler                NaN       NaN        NaN       NaN   \n",
       "Cellphone_Usage                  NaN       NaN        NaN       NaN   \n",
       "Household_Size              1.527431       1.0        2.0       3.0   \n",
       "Spy                          0.49953       0.0        0.0       0.0   \n",
       "Satisfaction_Level          1.711686       1.0        1.0       2.0   \n",
       "Occupation                       NaN       NaN        NaN       NaN   \n",
       "Political_Participation          NaN       NaN        NaN       NaN   \n",
       "Social_Person                    NaN       NaN        NaN       NaN   \n",
       "Area_Residence                   NaN       NaN        NaN       NaN   \n",
       "Military_Service                 NaN       NaN        NaN       NaN   \n",
       "Household_Income         4190.830154    7000.0     7000.0    8261.0   \n",
       "\n",
       "                               75%       max  \n",
       "ID                         6999.25    8999.0  \n",
       "ID_ORIGINAL              465716.25  467974.0  \n",
       "Gender                         NaN       NaN  \n",
       "Foreign_Citizenship            NaN       NaN  \n",
       "Age                           53.0      89.0  \n",
       "Frequent_Traveler              NaN       NaN  \n",
       "Cellphone_Usage                NaN       NaN  \n",
       "Household_Size                 4.0       9.0  \n",
       "Spy                            1.0       1.0  \n",
       "Satisfaction_Level             4.0       9.0  \n",
       "Occupation                     NaN       NaN  \n",
       "Political_Participation        NaN       NaN  \n",
       "Social_Person                  NaN       NaN  \n",
       "Area_Residence                 NaN       NaN  \n",
       "Military_Service               NaN       NaN  \n",
       "Household_Income           12044.0   24654.0  "
      ]
     },
     "execution_count": 186,
     "metadata": {},
     "output_type": "execute_result"
    }
   ],
   "source": [
    "# Summary statistics for all variables data train\n",
    "df_train.describe(include='all').T"
   ]
  },
  {
   "cell_type": "markdown",
   "id": "4c10a27d",
   "metadata": {
    "id": "4c10a27d"
   },
   "source": [
    "# Detection and treatment of Outliers"
   ]
  },
  {
   "cell_type": "code",
   "execution_count": 187,
   "id": "fc3bd491",
   "metadata": {
    "id": "fc3bd491",
    "outputId": "12a9da88-6de2-41c7-dc79-998a3bff242a",
    "scrolled": true
   },
   "outputs": [
    {
     "data": {
      "text/plain": [
       "<AxesSubplot:xlabel='Household_Size'>"
      ]
     },
     "execution_count": 187,
     "metadata": {},
     "output_type": "execute_result"
    },
    {
     "data": {
      "image/png": "[encoded data removed]",
      "text/plain": [
       "<Figure size 432x288 with 1 Axes>"
      ]
     },
     "metadata": {
      "needs_background": "light"
     },
     "output_type": "display_data"
    }
   ],
   "source": [
    "# Household Size boxplot outliers data test\n",
    "sns.boxplot(x='Household_Size', data=df_test)"
   ]
  },
  {
   "cell_type": "code",
   "execution_count": 188,
   "id": "30c853b2",
   "metadata": {
    "id": "30c853b2",
    "outputId": "fe6c5cdd-e800-49d9-8c78-a0333c27d043"
   },
   "outputs": [
    {
     "data": {
      "text/plain": [
       "<AxesSubplot:xlabel='Household_Size'>"
      ]
     },
     "execution_count": 188,
     "metadata": {},
     "output_type": "execute_result"
    },
    {
     "data": {
      "image/png": "[encoded data removed]",
      "text/plain": [
       "<Figure size 432x288 with 1 Axes>"
      ]
     },
     "metadata": {
      "needs_background": "light"
     },
     "output_type": "display_data"
    }
   ],
   "source": [
    "# Household Size boxplot outliers data test\n",
    "sns.boxplot(x='Household_Size', data=df_train)"
   ]
  },
  {
   "cell_type": "code",
   "execution_count": 189,
   "id": "5a419605",
   "metadata": {
    "id": "5a419605",
    "outputId": "a2a7b2c7-06cd-472c-d737-079c1e2fad32"
   },
   "outputs": [
    {
     "data": {
      "text/plain": [
       "<AxesSubplot:xlabel='Household_Income'>"
      ]
     },
     "execution_count": 189,
     "metadata": {},
     "output_type": "execute_result"
    },
    {
     "data": {
      "image/png": "[encoded data removed]",
      "text/plain": [
       "<Figure size 432x288 with 1 Axes>"
      ]
     },
     "metadata": {
      "needs_background": "light"
     },
     "output_type": "display_data"
    }
   ],
   "source": [
    "# Household Income boxplot outliers data test\n",
    "sns.boxplot(x='Household_Income', data=df_test)"
   ]
  },
  {
   "cell_type": "code",
   "execution_count": 190,
   "id": "76dfed86",
   "metadata": {
    "id": "76dfed86",
    "outputId": "5bc5d8e4-c4b4-4e88-c271-289d56afc454"
   },
   "outputs": [
    {
     "data": {
      "text/plain": [
       "<AxesSubplot:xlabel='Household_Income'>"
      ]
     },
     "execution_count": 190,
     "metadata": {},
     "output_type": "execute_result"
    },
    {
     "data": {
      "image/png": "[encoded data removed]",
      "text/plain": [
       "<Figure size 432x288 with 1 Axes>"
      ]
     },
     "metadata": {
      "needs_background": "light"
     },
     "output_type": "display_data"
    }
   ],
   "source": [
    "# Household Income boxplot outliers data test\n",
    "sns.boxplot(x='Household_Income', data=df_train)"
   ]
  },
  {
   "cell_type": "code",
   "execution_count": 191,
   "id": "8fbea997",
   "metadata": {
    "id": "8fbea997",
    "outputId": "862419e0-070c-40ac-98eb-56f2aa2a6062"
   },
   "outputs": [
    {
     "data": {
      "text/plain": [
       "<AxesSubplot:xlabel='Household_Size'>"
      ]
     },
     "execution_count": 191,
     "metadata": {},
     "output_type": "execute_result"
    },
    {
     "data": {
      "image/png": "[encoded data removed]",
      "text/plain": [
       "<Figure size 432x288 with 1 Axes>"
      ]
     },
     "metadata": {
      "needs_background": "light"
     },
     "output_type": "display_data"
    }
   ],
   "source": [
    "# Household Size boxplot outliers data train\n",
    "sns.boxplot(x='Household_Size', data=df_train)"
   ]
  },
  {
   "cell_type": "code",
   "execution_count": 192,
   "id": "17437077",
   "metadata": {
    "id": "17437077",
    "outputId": "e4e7b8a4-2b2b-43eb-822a-f39c19123ef6"
   },
   "outputs": [
    {
     "data": {
      "text/plain": [
       "<AxesSubplot:xlabel='Household_Income'>"
      ]
     },
     "execution_count": 192,
     "metadata": {},
     "output_type": "execute_result"
    },
    {
     "data": {
      "image/png": "[encoded data removed]",
      "text/plain": [
       "<Figure size 432x288 with 1 Axes>"
      ]
     },
     "metadata": {
      "needs_background": "light"
     },
     "output_type": "display_data"
    }
   ],
   "source": [
    "# Household Income boxplot outliers data train\n",
    "sns.boxplot(x='Household_Income', data=df_train)"
   ]
  },
  {
   "cell_type": "code",
   "execution_count": 193,
   "id": "0fb518cf",
   "metadata": {
    "id": "0fb518cf",
    "outputId": "bc723b08-de4c-4a8a-d220-8675b6a59d59"
   },
   "outputs": [
    {
     "name": "stdout",
     "output_type": "stream",
     "text": [
      "Outliers of the dataset are: [23393, 23393, 23393, 23393, 23393, 23393, 23393, 23393, 23393, 23393, 23393, 23393, 23393, 23393, 23393, 23393, 23393, 23393, 23393, 23393, 23393, 23393, 23393, 23393, 23393, 23393, 23393, 23393, 23393, 23393, 23393, 23393, 23393, 23393, 23393, 23393, 23393, 23393, 23393, 23393, 23393, 23393, 23393, 23393, 23393, 23393, 24654, 24654, 24654, 24654, 24654, 24654, 24654, 24654, 24654, 24654, 24654, 24654, 24654, 24654, 24654, 24654, 24654, 24654, 24654, 24654, 24654, 24654, 24654, 24654, 24654, 24654, 24654, 24654, 24654, 24654, 24654, 24654, 24654, 24654, 24654, 24654, 24654, 24654, 24654, 24654, 24654, 24654, 24654, 24654]\n"
     ]
    }
   ],
   "source": [
    "#Zscore for Household Income, showing the values of outliers\n",
    "\n",
    "data=df_train['Household_Income']\n",
    "mean=np.mean(data)\n",
    "std=np.std(data)\n",
    "treshold=3\n",
    "outlier=[]\n",
    "for i in data:\n",
    "    z=(i-mean)/std\n",
    "    if z>treshold:\n",
    "        outlier.append(i)\n",
    "        outlier.sort()\n",
    "print('Outliers of the dataset are:', outlier) "
   ]
  },
  {
   "cell_type": "code",
   "execution_count": 194,
   "id": "0ab95eb9",
   "metadata": {
    "id": "0ab95eb9",
    "outputId": "f8c8a509-2b40-4fb9-81f5-6e72a6a4b4d0"
   },
   "outputs": [
    {
     "name": "stdout",
     "output_type": "stream",
     "text": [
      "Outliers of the dataset are: [8.0, 8.0, 8.0, 8.0, 8.0, 8.0, 8.0, 8.0, 8.0, 8.0, 8.0, 8.0, 8.0, 8.0, 8.0, 8.0, 8.0, 8.0, 8.0, 8.0, 8.0, 8.0, 8.0, 8.0, 8.0, 8.0, 8.0, 8.0, 8.0, 8.0, 8.0, 8.0, 8.0, 8.0, 8.0, 8.0, 8.0, 8.0, 8.0, 8.0, 8.0, 8.0, 8.0, 8.0, 8.0, 8.0, 8.0, 8.0, 9.0, 9.0, 9.0, 9.0, 9.0, 9.0, 9.0, 9.0, 9.0, 9.0, 9.0, 9.0, 9.0, 9.0, 9.0, 9.0, 9.0, 9.0, 9.0, 9.0, 9.0, 9.0, 9.0, 9.0, 9.0, 9.0, 9.0, 9.0, 9.0, 9.0, 9.0, 9.0, 9.0, 9.0, 9.0, 9.0, 9.0, 9.0, 9.0, 9.0, 9.0, 9.0, 9.0]\n"
     ]
    }
   ],
   "source": [
    "#Zscore for Household Size, showing the values of outliers\n",
    "\n",
    "data=df_train['Household_Size']\n",
    "mean=np.mean(data)\n",
    "std=np.std(data)\n",
    "treshold=3\n",
    "outlier=[]\n",
    "for i in data:\n",
    "    z=(i-mean)/std\n",
    "    if z>treshold:\n",
    "        outlier.append(i)\n",
    "        outlier.sort()\n",
    "print('Outliers of the dataset are:', outlier) "
   ]
  },
  {
   "cell_type": "code",
   "execution_count": 195,
   "id": "50d4aba5",
   "metadata": {
    "id": "50d4aba5",
    "outputId": "ae4028e4-e6ee-4eab-cc1c-64211cf46b50"
   },
   "outputs": [
    {
     "name": "stdout",
     "output_type": "stream",
     "text": [
      "Outliers of the dataset are: 90\n"
     ]
    }
   ],
   "source": [
    "#Zscore for Household Income, showing the values of outliers\n",
    "\n",
    "data=df_train['Household_Income']\n",
    "mean=np.mean(data)\n",
    "std=np.std(data)\n",
    "treshold=3\n",
    "outlier=[]\n",
    "for i in data:\n",
    "    z=(i-mean)/std\n",
    "    if z>treshold:\n",
    "        outlier.append(i)\n",
    "        outlier.sort()\n",
    "print('Outliers of the dataset are:', len(outlier))"
   ]
  },
  {
   "cell_type": "code",
   "execution_count": 196,
   "id": "a936a57e",
   "metadata": {
    "id": "a936a57e",
    "outputId": "aa119b4a-1ae6-4018-be72-4a8e4c1f94c4"
   },
   "outputs": [
    {
     "name": "stdout",
     "output_type": "stream",
     "text": [
      "Outliers of the dataset are: 91\n"
     ]
    }
   ],
   "source": [
    "#Zscore for Household Size, showing the values of outliers\n",
    "\n",
    "data=df_train['Household_Size']\n",
    "mean=np.mean(data)\n",
    "std=np.std(data)\n",
    "treshold=3\n",
    "outlier=[]\n",
    "for i in data:\n",
    "    z=(i-mean)/std\n",
    "    if z>treshold:\n",
    "        outlier.append(i)\n",
    "        outlier.sort()\n",
    "print('Outliers of the dataset are:', len(outlier)) "
   ]
  },
  {
   "cell_type": "markdown",
   "id": "705aeb29",
   "metadata": {
    "id": "705aeb29"
   },
   "source": [
    "### Removing outliers (using Z-Score method and removing specific rows) - Substituir df_train por df_train_shape"
   ]
  },
  {
   "cell_type": "code",
   "execution_count": 197,
   "id": "9dd816f1",
   "metadata": {
    "id": "9dd816f1",
    "outputId": "27eb1260-624a-4162-8ad3-f5af13c32a21"
   },
   "outputs": [
    {
     "data": {
      "text/plain": [
       "(2.0, 4.0)"
      ]
     },
     "execution_count": 197,
     "metadata": {},
     "output_type": "execute_result"
    }
   ],
   "source": [
    "Q1_Household_Size = df_train.Household_Size.quantile(0.25)\n",
    "Q3_Household_Size = df_train.Household_Size.quantile(0.75)\n",
    "Q1_Household_Size,Q3_Household_Size"
   ]
  },
  {
   "cell_type": "code",
   "execution_count": 198,
   "id": "f9703266",
   "metadata": {
    "id": "f9703266",
    "outputId": "54b30b72-667a-4c04-a443-c9fea44db5b0"
   },
   "outputs": [
    {
     "data": {
      "text/plain": [
       "2.0"
      ]
     },
     "execution_count": 198,
     "metadata": {},
     "output_type": "execute_result"
    }
   ],
   "source": [
    "IQR_Household_Size = Q3_Household_Size-Q1_Household_Size\n",
    "IQR_Household_Size"
   ]
  },
  {
   "cell_type": "code",
   "execution_count": 199,
   "id": "7199028a",
   "metadata": {
    "id": "7199028a",
    "outputId": "7a23aaff-2190-4bbc-ae98-80946ce2d349"
   },
   "outputs": [
    {
     "data": {
      "text/plain": [
       "(-1.0, 7.0)"
      ]
     },
     "execution_count": 199,
     "metadata": {},
     "output_type": "execute_result"
    }
   ],
   "source": [
    "lower_limit_Household_Size = Q1_Household_Size - 1.5*IQR_Household_Size\n",
    "upper_limit_Household_Size = Q3_Household_Size + 1.5*IQR_Household_Size\n",
    "lower_limit_Household_Size, upper_limit_Household_Size"
   ]
  },
  {
   "cell_type": "code",
   "execution_count": 200,
   "id": "55bc25d1",
   "metadata": {
    "id": "55bc25d1",
    "outputId": "70623e49-35f9-4c47-8ae4-bb2bb1f939b4"
   },
   "outputs": [
    {
     "data": {
      "text/plain": [
       "(7579, 16)"
      ]
     },
     "execution_count": 200,
     "metadata": {},
     "output_type": "execute_result"
    }
   ],
   "source": [
    "df_train_clean=df_train[(df_train.Household_Size>lower_limit_Household_Size)& (df_train.Household_Size<outlier[0])]\n",
    "df_train_clean.shape"
   ]
  },
  {
   "cell_type": "code",
   "execution_count": 201,
   "id": "f68a2dba",
   "metadata": {
    "id": "f68a2dba",
    "outputId": "1d614c98-b93a-4cd6-890b-984205de25d4"
   },
   "outputs": [
    {
     "data": {
      "text/plain": [
       "(7579, 16)"
      ]
     },
     "execution_count": 201,
     "metadata": {},
     "output_type": "execute_result"
    },
    {
     "data": {
      "image/png": "[encoded data removed]",
      "text/plain": [
       "<Figure size 432x288 with 1 Axes>"
      ]
     },
     "metadata": {
      "needs_background": "light"
     },
     "output_type": "display_data"
    }
   ],
   "source": [
    "#Outliers removed from Household Size\n",
    "sns.boxplot(x='Household_Size', data=df_train_clean)\n",
    "df_train_clean.shape "
   ]
  },
  {
   "cell_type": "code",
   "execution_count": 202,
   "id": "4b36a593",
   "metadata": {
    "id": "4b36a593",
    "outputId": "41d7a90d-59e5-492a-994c-42258fbeaed5"
   },
   "outputs": [
    {
     "data": {
      "text/plain": [
       "(7000.0, 12044.0)"
      ]
     },
     "execution_count": 202,
     "metadata": {},
     "output_type": "execute_result"
    }
   ],
   "source": [
    "Q1_Household_Income = df_train.Household_Income.quantile(0.25)\n",
    "Q3_Household_Income = df_train.Household_Income.quantile(0.75)\n",
    "Q1_Household_Income,Q3_Household_Income"
   ]
  },
  {
   "cell_type": "code",
   "execution_count": 203,
   "id": "c3fe1716",
   "metadata": {
    "id": "c3fe1716",
    "outputId": "98e12379-77c8-4bb2-d2cb-e6fc5242a408"
   },
   "outputs": [
    {
     "data": {
      "text/plain": [
       "5044.0"
      ]
     },
     "execution_count": 203,
     "metadata": {},
     "output_type": "execute_result"
    }
   ],
   "source": [
    "IQR_Household_Income = Q3_Household_Income-Q1_Household_Income\n",
    "IQR_Household_Income"
   ]
  },
  {
   "cell_type": "code",
   "execution_count": 204,
   "id": "03830907",
   "metadata": {
    "id": "03830907",
    "outputId": "3a902333-82de-41e5-d0b4-4889d85610d5",
    "scrolled": true
   },
   "outputs": [
    {
     "data": {
      "text/plain": [
       "(-566.0, 19610.0)"
      ]
     },
     "execution_count": 204,
     "metadata": {},
     "output_type": "execute_result"
    }
   ],
   "source": [
    "lower_limit_Household_Income = Q1_Household_Income - 1.5*IQR_Household_Income\n",
    "upper_limit_Household_Income = Q3_Household_Income + 1.5*IQR_Household_Income\n",
    "lower_limit_Household_Income, upper_limit_Household_Income"
   ]
  },
  {
   "cell_type": "code",
   "execution_count": 205,
   "id": "25dfd798",
   "metadata": {
    "id": "25dfd798",
    "outputId": "5aa3fc73-e73a-40cf-8ad9-3077e6f81f9a"
   },
   "outputs": [
    {
     "data": {
      "text/html": [
       "<div>\n",
       "<style scoped>\n",
       "    .dataframe tbody tr th:only-of-type {\n",
       "        vertical-align: middle;\n",
       "    }\n",
       "\n",
       "    .dataframe tbody tr th {\n",
       "        vertical-align: top;\n",
       "    }\n",
       "\n",
       "    .dataframe thead th {\n",
       "        text-align: right;\n",
       "    }\n",
       "</style>\n",
       "<table border=\"1\" class=\"dataframe\">\n",
       "  <thead>\n",
       "    <tr style=\"text-align: right;\">\n",
       "      <th></th>\n",
       "      <th>Gender</th>\n",
       "    </tr>\n",
       "  </thead>\n",
       "  <tbody>\n",
       "    <tr>\n",
       "      <th>Male</th>\n",
       "      <td>248</td>\n",
       "    </tr>\n",
       "    <tr>\n",
       "      <th>Female</th>\n",
       "      <td>245</td>\n",
       "    </tr>\n",
       "  </tbody>\n",
       "</table>\n",
       "</div>"
      ],
      "text/plain": [
       "        Gender\n",
       "Male       248\n",
       "Female     245"
      ]
     },
     "execution_count": 205,
     "metadata": {},
     "output_type": "execute_result"
    }
   ],
   "source": [
    "# Check counts of categorical variables data test\n",
    "cols = ['Gender']\n",
    "df_test[cols].apply(pd.Series.value_counts)"
   ]
  },
  {
   "cell_type": "code",
   "execution_count": 206,
   "id": "97248d2d",
   "metadata": {
    "id": "97248d2d",
    "outputId": "f98798c7-aff7-4fe8-a657-fe7afd5a3dba"
   },
   "outputs": [
    {
     "data": {
      "image/png": "[encoded data removed]",
      "text/plain": [
       "<Figure size 216x288 with 1 Axes>"
      ]
     },
     "metadata": {
      "needs_background": "light"
     },
     "output_type": "display_data"
    }
   ],
   "source": [
    "#Bar chart Gender Data test\n",
    "\n",
    "fig, ax = plt.subplots(figsize=(3,4))\n",
    "g = sns.countplot(data=df_test, x=df_test['Gender'])\n",
    "\n",
    "# Decoration\n",
    "fmt = \"{x:,.0f}\"\n",
    "sns.despine()\n",
    "plt.title(\"Gender\")\n",
    "plt.xlabel(\"Gender\")\n",
    "plt.ylabel(\"frequency\")\n",
    "plt.rc('axes')"
   ]
  },
  {
   "cell_type": "code",
   "execution_count": 207,
   "id": "f080a80d",
   "metadata": {
    "id": "f080a80d",
    "outputId": "451ef90e-1c52-4c81-f673-7f33d5dcbfd1"
   },
   "outputs": [
    {
     "data": {
      "text/html": [
       "<div>\n",
       "<style scoped>\n",
       "    .dataframe tbody tr th:only-of-type {\n",
       "        vertical-align: middle;\n",
       "    }\n",
       "\n",
       "    .dataframe tbody tr th {\n",
       "        vertical-align: top;\n",
       "    }\n",
       "\n",
       "    .dataframe thead th {\n",
       "        text-align: right;\n",
       "    }\n",
       "</style>\n",
       "<table border=\"1\" class=\"dataframe\">\n",
       "  <thead>\n",
       "    <tr style=\"text-align: right;\">\n",
       "      <th></th>\n",
       "      <th>Gender</th>\n",
       "    </tr>\n",
       "  </thead>\n",
       "  <tbody>\n",
       "    <tr>\n",
       "      <th>Male</th>\n",
       "      <td>4392</td>\n",
       "    </tr>\n",
       "    <tr>\n",
       "      <th>Female</th>\n",
       "      <td>3608</td>\n",
       "    </tr>\n",
       "  </tbody>\n",
       "</table>\n",
       "</div>"
      ],
      "text/plain": [
       "        Gender\n",
       "Male      4392\n",
       "Female    3608"
      ]
     },
     "execution_count": 207,
     "metadata": {},
     "output_type": "execute_result"
    }
   ],
   "source": [
    "# Check counts of categorical variables data train\n",
    "\n",
    "cols = ['Gender']\n",
    "df_train[cols].apply(pd.Series.value_counts)"
   ]
  },
  {
   "cell_type": "code",
   "execution_count": 208,
   "id": "572e38ed",
   "metadata": {
    "id": "572e38ed",
    "outputId": "fe167b2e-6218-40c5-bcbe-db009f74df85"
   },
   "outputs": [
    {
     "data": {
      "image/png": "[encoded data removed]",
      "text/plain": [
       "<Figure size 216x288 with 1 Axes>"
      ]
     },
     "metadata": {
      "needs_background": "light"
     },
     "output_type": "display_data"
    }
   ],
   "source": [
    "#Bar chart Foreign Citizenship Data train\n",
    "\n",
    "fig, ax = plt.subplots(figsize=(3,4))\n",
    "g = sns.countplot(data=df_test, x=df_test['Gender'])\n",
    "\n",
    "# Decoration\n",
    "fmt = \"{x:,.0f}\"\n",
    "sns.despine()\n",
    "plt.title(\"Gender\")\n",
    "plt.xlabel(\"Gender\")\n",
    "plt.ylabel(\"frequency\")\n",
    "plt.rc('axes')"
   ]
  },
  {
   "cell_type": "code",
   "execution_count": 209,
   "id": "c2eb0373",
   "metadata": {
    "id": "c2eb0373",
    "outputId": "60ff613c-622e-4143-9b98-1c1bde6093e8"
   },
   "outputs": [
    {
     "data": {
      "text/html": [
       "<div>\n",
       "<style scoped>\n",
       "    .dataframe tbody tr th:only-of-type {\n",
       "        vertical-align: middle;\n",
       "    }\n",
       "\n",
       "    .dataframe tbody tr th {\n",
       "        vertical-align: top;\n",
       "    }\n",
       "\n",
       "    .dataframe thead th {\n",
       "        text-align: right;\n",
       "    }\n",
       "</style>\n",
       "<table border=\"1\" class=\"dataframe\">\n",
       "  <thead>\n",
       "    <tr style=\"text-align: right;\">\n",
       "      <th></th>\n",
       "      <th>Foreign_Citizenship</th>\n",
       "    </tr>\n",
       "  </thead>\n",
       "  <tbody>\n",
       "    <tr>\n",
       "      <th>Yes</th>\n",
       "      <td>270</td>\n",
       "    </tr>\n",
       "    <tr>\n",
       "      <th>No</th>\n",
       "      <td>216</td>\n",
       "    </tr>\n",
       "  </tbody>\n",
       "</table>\n",
       "</div>"
      ],
      "text/plain": [
       "     Foreign_Citizenship\n",
       "Yes                  270\n",
       "No                   216"
      ]
     },
     "execution_count": 209,
     "metadata": {},
     "output_type": "execute_result"
    }
   ],
   "source": [
    "# Check counts of categorical variables data test\n",
    "cols = ['Foreign_Citizenship']\n",
    "df_test[cols].apply(pd.Series.value_counts)"
   ]
  },
  {
   "cell_type": "code",
   "execution_count": 210,
   "id": "2d04f0e5",
   "metadata": {
    "id": "2d04f0e5",
    "outputId": "71950a2e-f4a1-4e98-9eda-373b7d45da8f"
   },
   "outputs": [
    {
     "data": {
      "image/png": "[encoded data removed]",
      "text/plain": [
       "<Figure size 216x288 with 1 Axes>"
      ]
     },
     "metadata": {
      "needs_background": "light"
     },
     "output_type": "display_data"
    }
   ],
   "source": [
    "#Bar chart Foreign Citizenship Data test\n",
    "\n",
    "fig, ax = plt.subplots(figsize=(3,4))\n",
    "g = sns.countplot(data=df_test, x=df_test['Foreign_Citizenship'])\n",
    "\n",
    "# Decoration\n",
    "fmt = \"{x:,.0f}\"\n",
    "sns.despine()\n",
    "plt.title(\"Foreign Citizenship\")\n",
    "plt.xlabel(\"Foreign Citizenship\")\n",
    "plt.ylabel(\"frequency\")\n",
    "plt.rc('axes')"
   ]
  },
  {
   "cell_type": "code",
   "execution_count": 211,
   "id": "3946a3f0",
   "metadata": {
    "id": "3946a3f0",
    "outputId": "c36edcaa-890d-4eaa-d645-617021fc0713"
   },
   "outputs": [
    {
     "data": {
      "text/html": [
       "<div>\n",
       "<style scoped>\n",
       "    .dataframe tbody tr th:only-of-type {\n",
       "        vertical-align: middle;\n",
       "    }\n",
       "\n",
       "    .dataframe tbody tr th {\n",
       "        vertical-align: top;\n",
       "    }\n",
       "\n",
       "    .dataframe thead th {\n",
       "        text-align: right;\n",
       "    }\n",
       "</style>\n",
       "<table border=\"1\" class=\"dataframe\">\n",
       "  <thead>\n",
       "    <tr style=\"text-align: right;\">\n",
       "      <th></th>\n",
       "      <th>Foreign_Citizenship</th>\n",
       "    </tr>\n",
       "  </thead>\n",
       "  <tbody>\n",
       "    <tr>\n",
       "      <th>Yes</th>\n",
       "      <td>4632</td>\n",
       "    </tr>\n",
       "    <tr>\n",
       "      <th>No</th>\n",
       "      <td>3230</td>\n",
       "    </tr>\n",
       "  </tbody>\n",
       "</table>\n",
       "</div>"
      ],
      "text/plain": [
       "     Foreign_Citizenship\n",
       "Yes                 4632\n",
       "No                  3230"
      ]
     },
     "execution_count": 211,
     "metadata": {},
     "output_type": "execute_result"
    }
   ],
   "source": [
    "# Check counts of categorical variables data train\n",
    "cols = ['Foreign_Citizenship']\n",
    "df_train[cols].apply(pd.Series.value_counts)"
   ]
  },
  {
   "cell_type": "code",
   "execution_count": 212,
   "id": "c6cc56ad",
   "metadata": {
    "id": "c6cc56ad",
    "outputId": "5b9355c7-d24d-4e9e-8db1-77c42796ca18"
   },
   "outputs": [
    {
     "data": {
      "image/png": "[encoded data removed]",
      "text/plain": [
       "<Figure size 216x288 with 1 Axes>"
      ]
     },
     "metadata": {
      "needs_background": "light"
     },
     "output_type": "display_data"
    }
   ],
   "source": [
    "#Bar chart Foreign Citizenship Data train\n",
    "\n",
    "fig, ax = plt.subplots(figsize=(3,4))\n",
    "g = sns.countplot(data=df_train, x=df_train['Foreign_Citizenship'])\n",
    "\n",
    "# Decoration\n",
    "fmt = \"{x:,.0f}\"\n",
    "sns.despine()\n",
    "plt.title(\"Foreign Citizenship\")\n",
    "plt.xlabel(\"Foreign Citizenship\")\n",
    "plt.ylabel(\"frequency\")\n",
    "plt.rc('axes')"
   ]
  },
  {
   "cell_type": "code",
   "execution_count": 213,
   "id": "e9113ab1",
   "metadata": {
    "id": "e9113ab1",
    "outputId": "46c9e8b8-fe22-4ade-8b09-5b11515ccd53"
   },
   "outputs": [
    {
     "data": {
      "text/html": [
       "<div>\n",
       "<style scoped>\n",
       "    .dataframe tbody tr th:only-of-type {\n",
       "        vertical-align: middle;\n",
       "    }\n",
       "\n",
       "    .dataframe tbody tr th {\n",
       "        vertical-align: top;\n",
       "    }\n",
       "\n",
       "    .dataframe thead th {\n",
       "        text-align: right;\n",
       "    }\n",
       "</style>\n",
       "<table border=\"1\" class=\"dataframe\">\n",
       "  <thead>\n",
       "    <tr style=\"text-align: right;\">\n",
       "      <th></th>\n",
       "      <th>Area_Residence</th>\n",
       "    </tr>\n",
       "  </thead>\n",
       "  <tbody>\n",
       "    <tr>\n",
       "      <th>City</th>\n",
       "      <td>432</td>\n",
       "    </tr>\n",
       "    <tr>\n",
       "      <th>Country-side</th>\n",
       "      <td>53</td>\n",
       "    </tr>\n",
       "  </tbody>\n",
       "</table>\n",
       "</div>"
      ],
      "text/plain": [
       "              Area_Residence\n",
       "City                     432\n",
       "Country-side              53"
      ]
     },
     "execution_count": 213,
     "metadata": {},
     "output_type": "execute_result"
    }
   ],
   "source": [
    "# Check counts of categorical variables data test\n",
    "cols = ['Area_Residence']\n",
    "df_test[cols].apply(pd.Series.value_counts)"
   ]
  },
  {
   "cell_type": "code",
   "execution_count": 214,
   "id": "30c1ffff",
   "metadata": {
    "id": "30c1ffff",
    "outputId": "a3544399-599a-48e2-8246-3a458910bb72"
   },
   "outputs": [
    {
     "data": {
      "image/png": "[encoded data removed]",
      "text/plain": [
       "<Figure size 216x288 with 1 Axes>"
      ]
     },
     "metadata": {
      "needs_background": "light"
     },
     "output_type": "display_data"
    }
   ],
   "source": [
    "#Bar chart Area Residence Data test\n",
    "\n",
    "fig, ax = plt.subplots(figsize=(3,4))\n",
    "g = sns.countplot(data=df_test, x=df_test['Area_Residence'])\n",
    "\n",
    "# Decoration\n",
    "fmt = \"{x:,.0f}\"\n",
    "sns.despine()\n",
    "plt.title(\"Area Residence\")\n",
    "plt.xlabel(\"Area Residence\")\n",
    "plt.ylabel(\"frequency\")\n",
    "plt.rc('axes')"
   ]
  },
  {
   "cell_type": "code",
   "execution_count": 215,
   "id": "f269a570",
   "metadata": {
    "id": "f269a570",
    "outputId": "5741484a-34ad-45c3-f8b3-f200d6cbe0b2"
   },
   "outputs": [
    {
     "data": {
      "text/html": [
       "<div>\n",
       "<style scoped>\n",
       "    .dataframe tbody tr th:only-of-type {\n",
       "        vertical-align: middle;\n",
       "    }\n",
       "\n",
       "    .dataframe tbody tr th {\n",
       "        vertical-align: top;\n",
       "    }\n",
       "\n",
       "    .dataframe thead th {\n",
       "        text-align: right;\n",
       "    }\n",
       "</style>\n",
       "<table border=\"1\" class=\"dataframe\">\n",
       "  <thead>\n",
       "    <tr style=\"text-align: right;\">\n",
       "      <th></th>\n",
       "      <th>Area_Residence</th>\n",
       "    </tr>\n",
       "  </thead>\n",
       "  <tbody>\n",
       "    <tr>\n",
       "      <th>City</th>\n",
       "      <td>6838</td>\n",
       "    </tr>\n",
       "    <tr>\n",
       "      <th>Country-side</th>\n",
       "      <td>1086</td>\n",
       "    </tr>\n",
       "  </tbody>\n",
       "</table>\n",
       "</div>"
      ],
      "text/plain": [
       "              Area_Residence\n",
       "City                    6838\n",
       "Country-side            1086"
      ]
     },
     "execution_count": 215,
     "metadata": {},
     "output_type": "execute_result"
    }
   ],
   "source": [
    "# Check counts of categorical variables data train\n",
    "cols = ['Area_Residence']\n",
    "df_train[cols].apply(pd.Series.value_counts)"
   ]
  },
  {
   "cell_type": "code",
   "execution_count": 216,
   "id": "0fa2d73f",
   "metadata": {
    "id": "0fa2d73f",
    "outputId": "73a5b025-78ef-4dbb-9150-511b8a6d6a47"
   },
   "outputs": [
    {
     "data": {
      "image/png": "[encoded data removed]",
      "text/plain": [
       "<Figure size 216x288 with 1 Axes>"
      ]
     },
     "metadata": {
      "needs_background": "light"
     },
     "output_type": "display_data"
    }
   ],
   "source": [
    "#Bar chart Area Residence Data train\n",
    "\n",
    "fig, ax = plt.subplots(figsize=(3,4))\n",
    "g = sns.countplot(data=df_train, x=df_train['Area_Residence'])\n",
    "\n",
    "# Decoration\n",
    "fmt = \"{x:,.0f}\"\n",
    "sns.despine()\n",
    "plt.title(\"Area Residence\")\n",
    "plt.xlabel(\"Area Residence\")\n",
    "plt.ylabel(\"frequency\")\n",
    "plt.rc('axes')"
   ]
  },
  {
   "cell_type": "code",
   "execution_count": 217,
   "id": "39a1e1e1",
   "metadata": {
    "id": "39a1e1e1",
    "outputId": "5008a4e4-7de0-4466-a204-9d4690083bfb"
   },
   "outputs": [
    {
     "data": {
      "text/html": [
       "<div>\n",
       "<style scoped>\n",
       "    .dataframe tbody tr th:only-of-type {\n",
       "        vertical-align: middle;\n",
       "    }\n",
       "\n",
       "    .dataframe tbody tr th {\n",
       "        vertical-align: top;\n",
       "    }\n",
       "\n",
       "    .dataframe thead th {\n",
       "        text-align: right;\n",
       "    }\n",
       "</style>\n",
       "<table border=\"1\" class=\"dataframe\">\n",
       "  <thead>\n",
       "    <tr style=\"text-align: right;\">\n",
       "      <th></th>\n",
       "      <th>Age</th>\n",
       "    </tr>\n",
       "  </thead>\n",
       "  <tbody>\n",
       "    <tr>\n",
       "      <th>26</th>\n",
       "      <td>21</td>\n",
       "    </tr>\n",
       "    <tr>\n",
       "      <th>42</th>\n",
       "      <td>18</td>\n",
       "    </tr>\n",
       "    <tr>\n",
       "      <th>25</th>\n",
       "      <td>18</td>\n",
       "    </tr>\n",
       "    <tr>\n",
       "      <th>30</th>\n",
       "      <td>17</td>\n",
       "    </tr>\n",
       "    <tr>\n",
       "      <th>38</th>\n",
       "      <td>17</td>\n",
       "    </tr>\n",
       "    <tr>\n",
       "      <th>...</th>\n",
       "      <td>...</td>\n",
       "    </tr>\n",
       "    <tr>\n",
       "      <th>81</th>\n",
       "      <td>1</td>\n",
       "    </tr>\n",
       "    <tr>\n",
       "      <th>77</th>\n",
       "      <td>1</td>\n",
       "    </tr>\n",
       "    <tr>\n",
       "      <th>24</th>\n",
       "      <td>1</td>\n",
       "    </tr>\n",
       "    <tr>\n",
       "      <th>72</th>\n",
       "      <td>1</td>\n",
       "    </tr>\n",
       "    <tr>\n",
       "      <th>82</th>\n",
       "      <td>1</td>\n",
       "    </tr>\n",
       "  </tbody>\n",
       "</table>\n",
       "<p>66 rows × 1 columns</p>\n",
       "</div>"
      ],
      "text/plain": [
       "    Age\n",
       "26   21\n",
       "42   18\n",
       "25   18\n",
       "30   17\n",
       "38   17\n",
       "..  ...\n",
       "81    1\n",
       "77    1\n",
       "24    1\n",
       "72    1\n",
       "82    1\n",
       "\n",
       "[66 rows x 1 columns]"
      ]
     },
     "execution_count": 217,
     "metadata": {},
     "output_type": "execute_result"
    }
   ],
   "source": [
    "# Check counts of categorical variables data test\n",
    "cols = ['Age']\n",
    "df_test[cols].apply(pd.Series.value_counts)"
   ]
  },
  {
   "cell_type": "code",
   "execution_count": 218,
   "id": "33657666",
   "metadata": {
    "id": "33657666",
    "outputId": "69bb1fdc-a01f-4a0a-c188-e6050ace56f8"
   },
   "outputs": [
    {
     "data": {
      "image/png": "[encoded data removed]",
      "text/plain": [
       "<Figure size 1080x360 with 1 Axes>"
      ]
     },
     "metadata": {
      "needs_background": "light"
     },
     "output_type": "display_data"
    }
   ],
   "source": [
    "#Bar chart Age Group\n",
    "\n",
    "fig, ax = plt.subplots(figsize=(15,5))\n",
    "g = sns.countplot(data=df_test, x=df_test['Age'])\n",
    "\n",
    "# Decoration\n",
    "fmt = \"{x:,.0f}\"\n",
    "sns.despine()\n",
    "plt.title(\"Age Group\")\n",
    "plt.xlabel(\"Age Group\")\n",
    "plt.ylabel(\"frequency\")\n",
    "plt.rc('axes')"
   ]
  },
  {
   "cell_type": "code",
   "execution_count": 219,
   "id": "ba7a916a",
   "metadata": {
    "id": "ba7a916a",
    "outputId": "275819f2-e639-4b9f-cfdf-7c828112c708"
   },
   "outputs": [
    {
     "data": {
      "text/html": [
       "<div>\n",
       "<style scoped>\n",
       "    .dataframe tbody tr th:only-of-type {\n",
       "        vertical-align: middle;\n",
       "    }\n",
       "\n",
       "    .dataframe tbody tr th {\n",
       "        vertical-align: top;\n",
       "    }\n",
       "\n",
       "    .dataframe thead th {\n",
       "        text-align: right;\n",
       "    }\n",
       "</style>\n",
       "<table border=\"1\" class=\"dataframe\">\n",
       "  <thead>\n",
       "    <tr style=\"text-align: right;\">\n",
       "      <th></th>\n",
       "      <th>Age</th>\n",
       "    </tr>\n",
       "  </thead>\n",
       "  <tbody>\n",
       "    <tr>\n",
       "      <th>35</th>\n",
       "      <td>250</td>\n",
       "    </tr>\n",
       "    <tr>\n",
       "      <th>42</th>\n",
       "      <td>232</td>\n",
       "    </tr>\n",
       "    <tr>\n",
       "      <th>37</th>\n",
       "      <td>232</td>\n",
       "    </tr>\n",
       "    <tr>\n",
       "      <th>33</th>\n",
       "      <td>231</td>\n",
       "    </tr>\n",
       "    <tr>\n",
       "      <th>40</th>\n",
       "      <td>227</td>\n",
       "    </tr>\n",
       "    <tr>\n",
       "      <th>...</th>\n",
       "      <td>...</td>\n",
       "    </tr>\n",
       "    <tr>\n",
       "      <th>78</th>\n",
       "      <td>29</td>\n",
       "    </tr>\n",
       "    <tr>\n",
       "      <th>87</th>\n",
       "      <td>28</td>\n",
       "    </tr>\n",
       "    <tr>\n",
       "      <th>76</th>\n",
       "      <td>27</td>\n",
       "    </tr>\n",
       "    <tr>\n",
       "      <th>80</th>\n",
       "      <td>24</td>\n",
       "    </tr>\n",
       "    <tr>\n",
       "      <th>85</th>\n",
       "      <td>22</td>\n",
       "    </tr>\n",
       "  </tbody>\n",
       "</table>\n",
       "<p>67 rows × 1 columns</p>\n",
       "</div>"
      ],
      "text/plain": [
       "    Age\n",
       "35  250\n",
       "42  232\n",
       "37  232\n",
       "33  231\n",
       "40  227\n",
       "..  ...\n",
       "78   29\n",
       "87   28\n",
       "76   27\n",
       "80   24\n",
       "85   22\n",
       "\n",
       "[67 rows x 1 columns]"
      ]
     },
     "execution_count": 219,
     "metadata": {},
     "output_type": "execute_result"
    }
   ],
   "source": [
    "# Check counts of categorical variables data train\n",
    "cols = ['Age']\n",
    "df_train[cols].apply(pd.Series.value_counts)"
   ]
  },
  {
   "cell_type": "code",
   "execution_count": 220,
   "id": "59a8e7ad",
   "metadata": {
    "id": "59a8e7ad",
    "outputId": "390b9864-a601-46e6-834f-db00db768489"
   },
   "outputs": [
    {
     "data": {
      "image/png": "[encoded data removed]",
      "text/plain": [
       "<Figure size 1080x360 with 1 Axes>"
      ]
     },
     "metadata": {
      "needs_background": "light"
     },
     "output_type": "display_data"
    }
   ],
   "source": [
    "#Bar chart Age Group\n",
    "\n",
    "fig, ax = plt.subplots(figsize=(15,5))\n",
    "g = sns.countplot(data=df_train, x=df_train['Age'])\n",
    "\n",
    "# Decoration\n",
    "fmt = \"{x:,.0f}\"\n",
    "sns.despine()\n",
    "plt.title(\"Age Group\")\n",
    "plt.xlabel(\"Age Group\")\n",
    "plt.ylabel(\"frequency\")\n",
    "plt.rc('axes')"
   ]
  },
  {
   "cell_type": "code",
   "execution_count": 221,
   "id": "c3d18163",
   "metadata": {
    "id": "c3d18163",
    "outputId": "7a867284-d953-4dc6-a817-3b878e0a337a"
   },
   "outputs": [
    {
     "data": {
      "text/html": [
       "<div>\n",
       "<style scoped>\n",
       "    .dataframe tbody tr th:only-of-type {\n",
       "        vertical-align: middle;\n",
       "    }\n",
       "\n",
       "    .dataframe tbody tr th {\n",
       "        vertical-align: top;\n",
       "    }\n",
       "\n",
       "    .dataframe thead th {\n",
       "        text-align: right;\n",
       "    }\n",
       "</style>\n",
       "<table border=\"1\" class=\"dataframe\">\n",
       "  <thead>\n",
       "    <tr style=\"text-align: right;\">\n",
       "      <th></th>\n",
       "      <th>Frequent_Traveler</th>\n",
       "    </tr>\n",
       "  </thead>\n",
       "  <tbody>\n",
       "    <tr>\n",
       "      <th>Yes</th>\n",
       "      <td>306</td>\n",
       "    </tr>\n",
       "    <tr>\n",
       "      <th>No</th>\n",
       "      <td>184</td>\n",
       "    </tr>\n",
       "  </tbody>\n",
       "</table>\n",
       "</div>"
      ],
      "text/plain": [
       "     Frequent_Traveler\n",
       "Yes                306\n",
       "No                 184"
      ]
     },
     "execution_count": 221,
     "metadata": {},
     "output_type": "execute_result"
    }
   ],
   "source": [
    "# Check counts of categorical variables data test\n",
    "cols = ['Frequent_Traveler']\n",
    "df_test[cols].apply(pd.Series.value_counts)\n"
   ]
  },
  {
   "cell_type": "code",
   "execution_count": 222,
   "id": "37650551",
   "metadata": {
    "id": "37650551",
    "outputId": "4d45421e-8a7a-4198-d70b-8fd8531c73aa"
   },
   "outputs": [
    {
     "data": {
      "image/png": "[encoded data removed]",
      "text/plain": [
       "<Figure size 216x288 with 1 Axes>"
      ]
     },
     "metadata": {
      "needs_background": "light"
     },
     "output_type": "display_data"
    }
   ],
   "source": [
    "#Bar chart Frequent Traveler data test\n",
    "\n",
    "fig, ax = plt.subplots(figsize=(3,4))\n",
    "g = sns.countplot(data=df_test, x=df_test['Frequent_Traveler'])\n",
    "\n",
    "# Decoration\n",
    "fmt = \"{x:,.0f}\"\n",
    "sns.despine()\n",
    "plt.title(\"Frequent Traveler\")\n",
    "plt.xlabel(\"Frequent Traveler\")\n",
    "plt.ylabel(\"frequency\")\n",
    "plt.rc('axes')"
   ]
  },
  {
   "cell_type": "code",
   "execution_count": 223,
   "id": "95ccdfe7",
   "metadata": {
    "id": "95ccdfe7",
    "outputId": "9e239a20-f0ca-4cf5-b7ce-b42e5c28864a"
   },
   "outputs": [
    {
     "data": {
      "text/html": [
       "<div>\n",
       "<style scoped>\n",
       "    .dataframe tbody tr th:only-of-type {\n",
       "        vertical-align: middle;\n",
       "    }\n",
       "\n",
       "    .dataframe tbody tr th {\n",
       "        vertical-align: top;\n",
       "    }\n",
       "\n",
       "    .dataframe thead th {\n",
       "        text-align: right;\n",
       "    }\n",
       "</style>\n",
       "<table border=\"1\" class=\"dataframe\">\n",
       "  <thead>\n",
       "    <tr style=\"text-align: right;\">\n",
       "      <th></th>\n",
       "      <th>Frequent_Traveler</th>\n",
       "    </tr>\n",
       "  </thead>\n",
       "  <tbody>\n",
       "    <tr>\n",
       "      <th>Yes</th>\n",
       "      <td>4938</td>\n",
       "    </tr>\n",
       "    <tr>\n",
       "      <th>No</th>\n",
       "      <td>2985</td>\n",
       "    </tr>\n",
       "  </tbody>\n",
       "</table>\n",
       "</div>"
      ],
      "text/plain": [
       "     Frequent_Traveler\n",
       "Yes               4938\n",
       "No                2985"
      ]
     },
     "execution_count": 223,
     "metadata": {},
     "output_type": "execute_result"
    }
   ],
   "source": [
    "# Check counts of categorical variables data train\n",
    "cols = ['Frequent_Traveler']\n",
    "df_train[cols].apply(pd.Series.value_counts)\n"
   ]
  },
  {
   "cell_type": "code",
   "execution_count": 224,
   "id": "76dfa55a",
   "metadata": {
    "id": "76dfa55a",
    "outputId": "3dd9fe89-4798-4ed2-ecb5-7ea10fb5dec6"
   },
   "outputs": [
    {
     "data": {
      "image/png": "[encoded data removed]",
      "text/plain": [
       "<Figure size 216x288 with 1 Axes>"
      ]
     },
     "metadata": {
      "needs_background": "light"
     },
     "output_type": "display_data"
    }
   ],
   "source": [
    "#Bar chart Frequent Traveler data train\n",
    "\n",
    "fig, ax = plt.subplots(figsize=(3,4))\n",
    "g = sns.countplot(data=df_train, x=df_train['Frequent_Traveler'])\n",
    "\n",
    "# Decoration\n",
    "fmt = \"{x:,.0f}\"\n",
    "sns.despine()\n",
    "plt.title(\"Frequent Traveler\")\n",
    "plt.xlabel(\"Frequent Traveler\")\n",
    "plt.ylabel(\"frequency\")\n",
    "plt.rc('axes')"
   ]
  },
  {
   "cell_type": "code",
   "execution_count": 225,
   "id": "c8164fce",
   "metadata": {
    "id": "c8164fce",
    "outputId": "1991ccbb-3210-473c-f363-f7c54a5b7d2c"
   },
   "outputs": [
    {
     "data": {
      "text/html": [
       "<div>\n",
       "<style scoped>\n",
       "    .dataframe tbody tr th:only-of-type {\n",
       "        vertical-align: middle;\n",
       "    }\n",
       "\n",
       "    .dataframe tbody tr th {\n",
       "        vertical-align: top;\n",
       "    }\n",
       "\n",
       "    .dataframe thead th {\n",
       "        text-align: right;\n",
       "    }\n",
       "</style>\n",
       "<table border=\"1\" class=\"dataframe\">\n",
       "  <thead>\n",
       "    <tr style=\"text-align: right;\">\n",
       "      <th></th>\n",
       "      <th>Cellphone_Usage</th>\n",
       "    </tr>\n",
       "  </thead>\n",
       "  <tbody>\n",
       "    <tr>\n",
       "      <th>Low</th>\n",
       "      <td>305</td>\n",
       "    </tr>\n",
       "    <tr>\n",
       "      <th>Average</th>\n",
       "      <td>129</td>\n",
       "    </tr>\n",
       "    <tr>\n",
       "      <th>High</th>\n",
       "      <td>59</td>\n",
       "    </tr>\n",
       "  </tbody>\n",
       "</table>\n",
       "</div>"
      ],
      "text/plain": [
       "         Cellphone_Usage\n",
       "Low                  305\n",
       "Average              129\n",
       "High                  59"
      ]
     },
     "execution_count": 225,
     "metadata": {},
     "output_type": "execute_result"
    }
   ],
   "source": [
    "# Check counts of categorical variables data test\n",
    "cols = ['Cellphone_Usage']\n",
    "df_test[cols].apply(pd.Series.value_counts)"
   ]
  },
  {
   "cell_type": "code",
   "execution_count": 226,
   "id": "4f3a2f4e",
   "metadata": {
    "id": "4f3a2f4e",
    "outputId": "4b95f481-8491-43b9-dc99-fd23f9be1aca"
   },
   "outputs": [
    {
     "data": {
      "image/png": "[encoded data removed]",
      "text/plain": [
       "<Figure size 216x288 with 1 Axes>"
      ]
     },
     "metadata": {
      "needs_background": "light"
     },
     "output_type": "display_data"
    }
   ],
   "source": [
    "#Bar chart Cellphone Usage data test\n",
    "\n",
    "fig, ax = plt.subplots(figsize=(3,4))\n",
    "g = sns.countplot(data=df_test, x=df_test['Cellphone_Usage'])\n",
    "\n",
    "# Decoration\n",
    "fmt = \"{x:,.0f}\"\n",
    "sns.despine()\n",
    "plt.title(\"Cellphone Usage\")\n",
    "plt.xlabel(\"Cellphone Usage\")\n",
    "plt.ylabel(\"frequency\")\n",
    "plt.rc('axes')"
   ]
  },
  {
   "cell_type": "code",
   "execution_count": 227,
   "id": "98b7954c",
   "metadata": {
    "id": "98b7954c",
    "outputId": "bfeb1bca-f198-4d47-9eea-c1aafa61f9f2"
   },
   "outputs": [
    {
     "data": {
      "text/html": [
       "<div>\n",
       "<style scoped>\n",
       "    .dataframe tbody tr th:only-of-type {\n",
       "        vertical-align: middle;\n",
       "    }\n",
       "\n",
       "    .dataframe tbody tr th {\n",
       "        vertical-align: top;\n",
       "    }\n",
       "\n",
       "    .dataframe thead th {\n",
       "        text-align: right;\n",
       "    }\n",
       "</style>\n",
       "<table border=\"1\" class=\"dataframe\">\n",
       "  <thead>\n",
       "    <tr style=\"text-align: right;\">\n",
       "      <th></th>\n",
       "      <th>Cellphone_Usage</th>\n",
       "    </tr>\n",
       "  </thead>\n",
       "  <tbody>\n",
       "    <tr>\n",
       "      <th>Low</th>\n",
       "      <td>4815</td>\n",
       "    </tr>\n",
       "    <tr>\n",
       "      <th>Average</th>\n",
       "      <td>1971</td>\n",
       "    </tr>\n",
       "    <tr>\n",
       "      <th>High</th>\n",
       "      <td>1214</td>\n",
       "    </tr>\n",
       "  </tbody>\n",
       "</table>\n",
       "</div>"
      ],
      "text/plain": [
       "         Cellphone_Usage\n",
       "Low                 4815\n",
       "Average             1971\n",
       "High                1214"
      ]
     },
     "execution_count": 227,
     "metadata": {},
     "output_type": "execute_result"
    }
   ],
   "source": [
    "# Check counts of categorical variables data train\n",
    "cols = ['Cellphone_Usage']\n",
    "df_train[cols].apply(pd.Series.value_counts)"
   ]
  },
  {
   "cell_type": "code",
   "execution_count": 228,
   "id": "7eea5429",
   "metadata": {
    "id": "7eea5429",
    "outputId": "6f268418-ec45-4189-a67f-33808e9d5fea"
   },
   "outputs": [
    {
     "data": {
      "image/png": "[encoded data removed]",
      "text/plain": [
       "<Figure size 216x288 with 1 Axes>"
      ]
     },
     "metadata": {
      "needs_background": "light"
     },
     "output_type": "display_data"
    }
   ],
   "source": [
    "#Bar chart Cellphone Usage data train\n",
    "\n",
    "fig, ax = plt.subplots(figsize=(3,4))\n",
    "g = sns.countplot(data=df_train, x=df_train['Cellphone_Usage'])\n",
    "\n",
    "# Decoration\n",
    "fmt = \"{x:,.0f}\"\n",
    "sns.despine()\n",
    "plt.title(\"Cellphone Usage\")\n",
    "plt.xlabel(\"Cellphone Usage\")\n",
    "plt.ylabel(\"frequency\")\n",
    "plt.rc('axes')"
   ]
  },
  {
   "cell_type": "code",
   "execution_count": 229,
   "id": "9d0b4770",
   "metadata": {
    "id": "9d0b4770",
    "outputId": "0d3b214d-2386-4aa7-d124-9e1b2a8bc6b4",
    "scrolled": true
   },
   "outputs": [
    {
     "data": {
      "text/html": [
       "<div>\n",
       "<style scoped>\n",
       "    .dataframe tbody tr th:only-of-type {\n",
       "        vertical-align: middle;\n",
       "    }\n",
       "\n",
       "    .dataframe tbody tr th {\n",
       "        vertical-align: top;\n",
       "    }\n",
       "\n",
       "    .dataframe thead th {\n",
       "        text-align: right;\n",
       "    }\n",
       "</style>\n",
       "<table border=\"1\" class=\"dataframe\">\n",
       "  <thead>\n",
       "    <tr style=\"text-align: right;\">\n",
       "      <th></th>\n",
       "      <th>Household_Size</th>\n",
       "    </tr>\n",
       "  </thead>\n",
       "  <tbody>\n",
       "    <tr>\n",
       "      <th>2.0</th>\n",
       "      <td>141</td>\n",
       "    </tr>\n",
       "    <tr>\n",
       "      <th>3.0</th>\n",
       "      <td>98</td>\n",
       "    </tr>\n",
       "    <tr>\n",
       "      <th>1.0</th>\n",
       "      <td>82</td>\n",
       "    </tr>\n",
       "    <tr>\n",
       "      <th>4.0</th>\n",
       "      <td>81</td>\n",
       "    </tr>\n",
       "    <tr>\n",
       "      <th>5.0</th>\n",
       "      <td>45</td>\n",
       "    </tr>\n",
       "    <tr>\n",
       "      <th>6.0</th>\n",
       "      <td>15</td>\n",
       "    </tr>\n",
       "    <tr>\n",
       "      <th>7.0</th>\n",
       "      <td>6</td>\n",
       "    </tr>\n",
       "    <tr>\n",
       "      <th>8.0</th>\n",
       "      <td>4</td>\n",
       "    </tr>\n",
       "    <tr>\n",
       "      <th>9.0</th>\n",
       "      <td>4</td>\n",
       "    </tr>\n",
       "  </tbody>\n",
       "</table>\n",
       "</div>"
      ],
      "text/plain": [
       "     Household_Size\n",
       "2.0             141\n",
       "3.0              98\n",
       "1.0              82\n",
       "4.0              81\n",
       "5.0              45\n",
       "6.0              15\n",
       "7.0               6\n",
       "8.0               4\n",
       "9.0               4"
      ]
     },
     "execution_count": 229,
     "metadata": {},
     "output_type": "execute_result"
    }
   ],
   "source": [
    "# Check counts of categorical variables data test\n",
    "cols = ['Household_Size']\n",
    "df_test[cols].apply(pd.Series.value_counts)"
   ]
  },
  {
   "cell_type": "code",
   "execution_count": 230,
   "id": "79fc9b69",
   "metadata": {
    "id": "79fc9b69",
    "outputId": "4ba347a8-84ef-41a8-81b5-a9945c24de4d"
   },
   "outputs": [
    {
     "data": {
      "image/png": "[encoded data removed]",
      "text/plain": [
       "<Figure size 216x288 with 1 Axes>"
      ]
     },
     "metadata": {
      "needs_background": "light"
     },
     "output_type": "display_data"
    }
   ],
   "source": [
    "#Bar chart Cellphone Usage data test\n",
    "\n",
    "fig, ax = plt.subplots(figsize=(3,4))\n",
    "g = sns.countplot(data=df_test, x=df_test['Household_Size'])\n",
    "\n",
    "# Decoration\n",
    "fmt = \"{x:,.0f}\"\n",
    "sns.despine()\n",
    "plt.title(\"Household Size\")\n",
    "plt.xlabel(\"Household_Size\")\n",
    "plt.ylabel(\"frequency\")\n",
    "plt.rc('axes')"
   ]
  },
  {
   "cell_type": "code",
   "execution_count": 231,
   "id": "6751fa0f",
   "metadata": {
    "id": "6751fa0f",
    "outputId": "1b5e67a4-372c-436c-b606-2fa3c0bd53ef"
   },
   "outputs": [
    {
     "data": {
      "text/html": [
       "<div>\n",
       "<style scoped>\n",
       "    .dataframe tbody tr th:only-of-type {\n",
       "        vertical-align: middle;\n",
       "    }\n",
       "\n",
       "    .dataframe tbody tr th {\n",
       "        vertical-align: top;\n",
       "    }\n",
       "\n",
       "    .dataframe thead th {\n",
       "        text-align: right;\n",
       "    }\n",
       "</style>\n",
       "<table border=\"1\" class=\"dataframe\">\n",
       "  <thead>\n",
       "    <tr style=\"text-align: right;\">\n",
       "      <th></th>\n",
       "      <th>Household_Size</th>\n",
       "    </tr>\n",
       "  </thead>\n",
       "  <tbody>\n",
       "    <tr>\n",
       "      <th>2.0</th>\n",
       "      <td>2382</td>\n",
       "    </tr>\n",
       "    <tr>\n",
       "      <th>3.0</th>\n",
       "      <td>1480</td>\n",
       "    </tr>\n",
       "    <tr>\n",
       "      <th>1.0</th>\n",
       "      <td>1444</td>\n",
       "    </tr>\n",
       "    <tr>\n",
       "      <th>4.0</th>\n",
       "      <td>1365</td>\n",
       "    </tr>\n",
       "    <tr>\n",
       "      <th>5.0</th>\n",
       "      <td>606</td>\n",
       "    </tr>\n",
       "    <tr>\n",
       "      <th>6.0</th>\n",
       "      <td>207</td>\n",
       "    </tr>\n",
       "    <tr>\n",
       "      <th>7.0</th>\n",
       "      <td>95</td>\n",
       "    </tr>\n",
       "    <tr>\n",
       "      <th>8.0</th>\n",
       "      <td>48</td>\n",
       "    </tr>\n",
       "    <tr>\n",
       "      <th>9.0</th>\n",
       "      <td>43</td>\n",
       "    </tr>\n",
       "  </tbody>\n",
       "</table>\n",
       "</div>"
      ],
      "text/plain": [
       "     Household_Size\n",
       "2.0            2382\n",
       "3.0            1480\n",
       "1.0            1444\n",
       "4.0            1365\n",
       "5.0             606\n",
       "6.0             207\n",
       "7.0              95\n",
       "8.0              48\n",
       "9.0              43"
      ]
     },
     "execution_count": 231,
     "metadata": {},
     "output_type": "execute_result"
    }
   ],
   "source": [
    "# Check counts of categorical variables data train\n",
    "cols = ['Household_Size']\n",
    "df_train[cols].apply(pd.Series.value_counts)"
   ]
  },
  {
   "cell_type": "code",
   "execution_count": 232,
   "id": "7eaf6e4c",
   "metadata": {
    "id": "7eaf6e4c",
    "outputId": "ba5b1c44-f375-4ac4-d5ae-b3456880c904"
   },
   "outputs": [
    {
     "data": {
      "image/png": "[encoded data removed]",
      "text/plain": [
       "<Figure size 216x288 with 1 Axes>"
      ]
     },
     "metadata": {
      "needs_background": "light"
     },
     "output_type": "display_data"
    }
   ],
   "source": [
    "#Bar chart Household Size data train\n",
    "\n",
    "fig, ax = plt.subplots(figsize=(3,4))\n",
    "g = sns.countplot(data=df_train, x=df_train['Household_Size'])\n",
    "\n",
    "# Decoration\n",
    "fmt = \"{x:,.0f}\"\n",
    "sns.despine()\n",
    "plt.title(\"Household_Size\")\n",
    "plt.xlabel(\"Household Size\")\n",
    "plt.ylabel(\"frequency\")\n",
    "plt.rc('axes')"
   ]
  },
  {
   "cell_type": "code",
   "execution_count": 233,
   "id": "55d62ab3",
   "metadata": {
    "id": "55d62ab3",
    "outputId": "793bdb11-ba47-4f62-8833-df582fc95f61"
   },
   "outputs": [
    {
     "data": {
      "text/html": [
       "<div>\n",
       "<style scoped>\n",
       "    .dataframe tbody tr th:only-of-type {\n",
       "        vertical-align: middle;\n",
       "    }\n",
       "\n",
       "    .dataframe tbody tr th {\n",
       "        vertical-align: top;\n",
       "    }\n",
       "\n",
       "    .dataframe thead th {\n",
       "        text-align: right;\n",
       "    }\n",
       "</style>\n",
       "<table border=\"1\" class=\"dataframe\">\n",
       "  <thead>\n",
       "    <tr style=\"text-align: right;\">\n",
       "      <th></th>\n",
       "      <th>Household_Income</th>\n",
       "    </tr>\n",
       "  </thead>\n",
       "  <tbody>\n",
       "    <tr>\n",
       "      <th>0.0</th>\n",
       "      <td>147</td>\n",
       "    </tr>\n",
       "    <tr>\n",
       "      <th>1261.0</th>\n",
       "      <td>145</td>\n",
       "    </tr>\n",
       "    <tr>\n",
       "      <th>10088.0</th>\n",
       "      <td>30</td>\n",
       "    </tr>\n",
       "    <tr>\n",
       "      <th>11349.0</th>\n",
       "      <td>27</td>\n",
       "    </tr>\n",
       "    <tr>\n",
       "      <th>3783.0</th>\n",
       "      <td>23</td>\n",
       "    </tr>\n",
       "    <tr>\n",
       "      <th>6305.0</th>\n",
       "      <td>21</td>\n",
       "    </tr>\n",
       "    <tr>\n",
       "      <th>5044.0</th>\n",
       "      <td>20</td>\n",
       "    </tr>\n",
       "    <tr>\n",
       "      <th>2522.0</th>\n",
       "      <td>17</td>\n",
       "    </tr>\n",
       "    <tr>\n",
       "      <th>8827.0</th>\n",
       "      <td>12</td>\n",
       "    </tr>\n",
       "    <tr>\n",
       "      <th>7566.0</th>\n",
       "      <td>8</td>\n",
       "    </tr>\n",
       "    <tr>\n",
       "      <th>17654.0</th>\n",
       "      <td>2</td>\n",
       "    </tr>\n",
       "    <tr>\n",
       "      <th>12610.0</th>\n",
       "      <td>2</td>\n",
       "    </tr>\n",
       "    <tr>\n",
       "      <th>16393.0</th>\n",
       "      <td>1</td>\n",
       "    </tr>\n",
       "    <tr>\n",
       "      <th>15132.0</th>\n",
       "      <td>1</td>\n",
       "    </tr>\n",
       "    <tr>\n",
       "      <th>13871.0</th>\n",
       "      <td>1</td>\n",
       "    </tr>\n",
       "  </tbody>\n",
       "</table>\n",
       "</div>"
      ],
      "text/plain": [
       "         Household_Income\n",
       "0.0                   147\n",
       "1261.0                145\n",
       "10088.0                30\n",
       "11349.0                27\n",
       "3783.0                 23\n",
       "6305.0                 21\n",
       "5044.0                 20\n",
       "2522.0                 17\n",
       "8827.0                 12\n",
       "7566.0                  8\n",
       "17654.0                 2\n",
       "12610.0                 2\n",
       "16393.0                 1\n",
       "15132.0                 1\n",
       "13871.0                 1"
      ]
     },
     "execution_count": 233,
     "metadata": {},
     "output_type": "execute_result"
    }
   ],
   "source": [
    "# Check counts of categorical variables data test\n",
    "cols = ['Household_Income']\n",
    "df_test[cols].apply(pd.Series.value_counts)"
   ]
  },
  {
   "cell_type": "code",
   "execution_count": 234,
   "id": "319e7b64",
   "metadata": {
    "id": "319e7b64",
    "outputId": "d646aff2-e82a-4c82-8082-a5804b22dedf"
   },
   "outputs": [
    {
     "data": {
      "image/png": "[encoded data removed]",
      "text/plain": [
       "<Figure size 1080x288 with 1 Axes>"
      ]
     },
     "metadata": {
      "needs_background": "light"
     },
     "output_type": "display_data"
    }
   ],
   "source": [
    "#Bar chart Household Income data test\n",
    "\n",
    "fig, ax = plt.subplots(figsize=(15,4))\n",
    "g = sns.countplot(data=df_test, x=df_test['Household_Income'])\n",
    "\n",
    "# Decoration\n",
    "fmt = \"{x:,.0f}\"\n",
    "sns.despine()\n",
    "plt.title(\"Household_Income\")\n",
    "plt.xlabel(\"Household Income\")\n",
    "plt.ylabel(\"frequency\")\n",
    "plt.rc('axes')"
   ]
  },
  {
   "cell_type": "code",
   "execution_count": 235,
   "id": "97dc309d",
   "metadata": {
    "id": "97dc309d",
    "outputId": "dabac469-de7d-426b-d79f-3b75ec867856"
   },
   "outputs": [
    {
     "data": {
      "text/html": [
       "<div>\n",
       "<style scoped>\n",
       "    .dataframe tbody tr th:only-of-type {\n",
       "        vertical-align: middle;\n",
       "    }\n",
       "\n",
       "    .dataframe tbody tr th {\n",
       "        vertical-align: top;\n",
       "    }\n",
       "\n",
       "    .dataframe thead th {\n",
       "        text-align: right;\n",
       "    }\n",
       "</style>\n",
       "<table border=\"1\" class=\"dataframe\">\n",
       "  <thead>\n",
       "    <tr style=\"text-align: right;\">\n",
       "      <th></th>\n",
       "      <th>Household_Income</th>\n",
       "    </tr>\n",
       "  </thead>\n",
       "  <tbody>\n",
       "    <tr>\n",
       "      <th>7000</th>\n",
       "      <td>3122</td>\n",
       "    </tr>\n",
       "    <tr>\n",
       "      <th>8261</th>\n",
       "      <td>2334</td>\n",
       "    </tr>\n",
       "    <tr>\n",
       "      <th>18349</th>\n",
       "      <td>470</td>\n",
       "    </tr>\n",
       "    <tr>\n",
       "      <th>17088</th>\n",
       "      <td>454</td>\n",
       "    </tr>\n",
       "    <tr>\n",
       "      <th>9522</th>\n",
       "      <td>285</td>\n",
       "    </tr>\n",
       "    <tr>\n",
       "      <th>12044</th>\n",
       "      <td>253</td>\n",
       "    </tr>\n",
       "    <tr>\n",
       "      <th>10783</th>\n",
       "      <td>251</td>\n",
       "    </tr>\n",
       "    <tr>\n",
       "      <th>14566</th>\n",
       "      <td>202</td>\n",
       "    </tr>\n",
       "    <tr>\n",
       "      <th>15827</th>\n",
       "      <td>194</td>\n",
       "    </tr>\n",
       "    <tr>\n",
       "      <th>13305</th>\n",
       "      <td>194</td>\n",
       "    </tr>\n",
       "    <tr>\n",
       "      <th>19610</th>\n",
       "      <td>53</td>\n",
       "    </tr>\n",
       "    <tr>\n",
       "      <th>20871</th>\n",
       "      <td>50</td>\n",
       "    </tr>\n",
       "    <tr>\n",
       "      <th>22132</th>\n",
       "      <td>48</td>\n",
       "    </tr>\n",
       "    <tr>\n",
       "      <th>23393</th>\n",
       "      <td>46</td>\n",
       "    </tr>\n",
       "    <tr>\n",
       "      <th>24654</th>\n",
       "      <td>44</td>\n",
       "    </tr>\n",
       "  </tbody>\n",
       "</table>\n",
       "</div>"
      ],
      "text/plain": [
       "       Household_Income\n",
       "7000               3122\n",
       "8261               2334\n",
       "18349               470\n",
       "17088               454\n",
       "9522                285\n",
       "12044               253\n",
       "10783               251\n",
       "14566               202\n",
       "15827               194\n",
       "13305               194\n",
       "19610                53\n",
       "20871                50\n",
       "22132                48\n",
       "23393                46\n",
       "24654                44"
      ]
     },
     "execution_count": 235,
     "metadata": {},
     "output_type": "execute_result"
    }
   ],
   "source": [
    "# Check counts of categorical variables data train\n",
    "cols = ['Household_Income']\n",
    "df_train[cols].apply(pd.Series.value_counts)"
   ]
  },
  {
   "cell_type": "code",
   "execution_count": 236,
   "id": "affa1c27",
   "metadata": {
    "id": "affa1c27",
    "outputId": "3011628b-7b28-427e-b859-83405623d283"
   },
   "outputs": [
    {
     "data": {
      "image/png": "[encoded data removed]",
      "text/plain": [
       "<Figure size 1080x288 with 1 Axes>"
      ]
     },
     "metadata": {
      "needs_background": "light"
     },
     "output_type": "display_data"
    }
   ],
   "source": [
    "#Bar chart Household Income data train\n",
    "\n",
    "fig, ax = plt.subplots(figsize=(15,4))\n",
    "g = sns.countplot(data=df_train, x=df_train['Household_Income'])\n",
    "\n",
    "# Decoration\n",
    "fmt = \"{x:,.0f}\"\n",
    "sns.despine()\n",
    "plt.title(\"Household_Income\")\n",
    "plt.xlabel(\"Household Income\")\n",
    "plt.ylabel(\"frequency\")\n",
    "plt.rc('axes')"
   ]
  },
  {
   "cell_type": "code",
   "execution_count": 237,
   "id": "35a45837",
   "metadata": {
    "id": "35a45837",
    "outputId": "4820b23d-0499-4f77-8de5-851a9152f0f5"
   },
   "outputs": [
    {
     "data": {
      "text/html": [
       "<div>\n",
       "<style scoped>\n",
       "    .dataframe tbody tr th:only-of-type {\n",
       "        vertical-align: middle;\n",
       "    }\n",
       "\n",
       "    .dataframe tbody tr th {\n",
       "        vertical-align: top;\n",
       "    }\n",
       "\n",
       "    .dataframe thead th {\n",
       "        text-align: right;\n",
       "    }\n",
       "</style>\n",
       "<table border=\"1\" class=\"dataframe\">\n",
       "  <thead>\n",
       "    <tr style=\"text-align: right;\">\n",
       "      <th></th>\n",
       "      <th>Occupation</th>\n",
       "    </tr>\n",
       "  </thead>\n",
       "  <tbody>\n",
       "    <tr>\n",
       "      <th>Private company</th>\n",
       "      <td>349</td>\n",
       "    </tr>\n",
       "    <tr>\n",
       "      <th>Government</th>\n",
       "      <td>40</td>\n",
       "    </tr>\n",
       "    <tr>\n",
       "      <th>Self-employed</th>\n",
       "      <td>36</td>\n",
       "    </tr>\n",
       "    <tr>\n",
       "      <th>Public company</th>\n",
       "      <td>26</td>\n",
       "    </tr>\n",
       "    <tr>\n",
       "      <th>Student</th>\n",
       "      <td>24</td>\n",
       "    </tr>\n",
       "    <tr>\n",
       "      <th>Nothing</th>\n",
       "      <td>14</td>\n",
       "    </tr>\n",
       "  </tbody>\n",
       "</table>\n",
       "</div>"
      ],
      "text/plain": [
       "                 Occupation\n",
       "Private company         349\n",
       "Government               40\n",
       "Self-employed            36\n",
       "Public company           26\n",
       "Student                  24\n",
       "Nothing                  14"
      ]
     },
     "execution_count": 237,
     "metadata": {},
     "output_type": "execute_result"
    }
   ],
   "source": [
    "# Check counts of categorical variables data test\n",
    "cols = ['Occupation']\n",
    "df_test[cols].apply(pd.Series.value_counts)"
   ]
  },
  {
   "cell_type": "code",
   "execution_count": 238,
   "id": "9693b8bd",
   "metadata": {
    "id": "9693b8bd",
    "outputId": "709751f7-36ea-4ff5-a594-765fd1b27002"
   },
   "outputs": [
    {
     "data": {
      "image/png": "[encoded data removed]",
      "text/plain": [
       "<Figure size 648x288 with 1 Axes>"
      ]
     },
     "metadata": {
      "needs_background": "light"
     },
     "output_type": "display_data"
    }
   ],
   "source": [
    "#Bar chart Occupation data test\n",
    "\n",
    "fig, ax = plt.subplots(figsize=(9,4))\n",
    "g = sns.countplot(data=df_test, x=df_test['Occupation'])\n",
    "\n",
    "# Decoration\n",
    "fmt = \"{x:,.0f}\"\n",
    "sns.despine()\n",
    "plt.title(\"Occupation\")\n",
    "plt.xlabel(\"Occupation\")\n",
    "plt.ylabel(\"frequency\")\n",
    "plt.rc('axes')"
   ]
  },
  {
   "cell_type": "code",
   "execution_count": 239,
   "id": "8e300267",
   "metadata": {
    "id": "8e300267",
    "outputId": "06700d7b-d5b9-4e17-8db9-c8a82d110519"
   },
   "outputs": [
    {
     "data": {
      "text/html": [
       "<div>\n",
       "<style scoped>\n",
       "    .dataframe tbody tr th:only-of-type {\n",
       "        vertical-align: middle;\n",
       "    }\n",
       "\n",
       "    .dataframe tbody tr th {\n",
       "        vertical-align: top;\n",
       "    }\n",
       "\n",
       "    .dataframe thead th {\n",
       "        text-align: right;\n",
       "    }\n",
       "</style>\n",
       "<table border=\"1\" class=\"dataframe\">\n",
       "  <thead>\n",
       "    <tr style=\"text-align: right;\">\n",
       "      <th></th>\n",
       "      <th>Occupation</th>\n",
       "    </tr>\n",
       "  </thead>\n",
       "  <tbody>\n",
       "    <tr>\n",
       "      <th>Private company</th>\n",
       "      <td>5444</td>\n",
       "    </tr>\n",
       "    <tr>\n",
       "      <th>Government</th>\n",
       "      <td>680</td>\n",
       "    </tr>\n",
       "    <tr>\n",
       "      <th>Self-employed</th>\n",
       "      <td>623</td>\n",
       "    </tr>\n",
       "    <tr>\n",
       "      <th>Public company</th>\n",
       "      <td>598</td>\n",
       "    </tr>\n",
       "    <tr>\n",
       "      <th>Student</th>\n",
       "      <td>288</td>\n",
       "    </tr>\n",
       "    <tr>\n",
       "      <th>Nothing</th>\n",
       "      <td>243</td>\n",
       "    </tr>\n",
       "  </tbody>\n",
       "</table>\n",
       "</div>"
      ],
      "text/plain": [
       "                 Occupation\n",
       "Private company        5444\n",
       "Government              680\n",
       "Self-employed           623\n",
       "Public company          598\n",
       "Student                 288\n",
       "Nothing                 243"
      ]
     },
     "execution_count": 239,
     "metadata": {},
     "output_type": "execute_result"
    }
   ],
   "source": [
    "# Check counts of categorical variables data train\n",
    "cols = ['Occupation']\n",
    "df_train[cols].apply(pd.Series.value_counts)"
   ]
  },
  {
   "cell_type": "code",
   "execution_count": 240,
   "id": "7132b9d6",
   "metadata": {
    "id": "7132b9d6",
    "outputId": "34968554-a325-4fb3-c8ff-4f4baf076d35"
   },
   "outputs": [
    {
     "data": {
      "image/png": "[encoded data removed]",
      "text/plain": [
       "<Figure size 648x288 with 1 Axes>"
      ]
     },
     "metadata": {
      "needs_background": "light"
     },
     "output_type": "display_data"
    }
   ],
   "source": [
    "#Bar chart Occupation data train\n",
    "\n",
    "fig, ax = plt.subplots(figsize=(9,4))\n",
    "g = sns.countplot(data=df_train, x=df_train['Occupation'])\n",
    "\n",
    "# Decoration\n",
    "fmt = \"{x:,.0f}\"\n",
    "sns.despine()\n",
    "plt.title(\"Occupation\")\n",
    "plt.xlabel(\"Occupation\")\n",
    "plt.ylabel(\"frequency\")\n",
    "plt.rc('axes')"
   ]
  },
  {
   "cell_type": "code",
   "execution_count": 241,
   "id": "f2226fd4",
   "metadata": {
    "id": "f2226fd4",
    "outputId": "daf0438c-a3a4-4191-f052-71368892fdc7"
   },
   "outputs": [
    {
     "data": {
      "text/html": [
       "<div>\n",
       "<style scoped>\n",
       "    .dataframe tbody tr th:only-of-type {\n",
       "        vertical-align: middle;\n",
       "    }\n",
       "\n",
       "    .dataframe tbody tr th {\n",
       "        vertical-align: top;\n",
       "    }\n",
       "\n",
       "    .dataframe thead th {\n",
       "        text-align: right;\n",
       "    }\n",
       "</style>\n",
       "<table border=\"1\" class=\"dataframe\">\n",
       "  <thead>\n",
       "    <tr style=\"text-align: right;\">\n",
       "      <th></th>\n",
       "      <th>Political_Participation</th>\n",
       "    </tr>\n",
       "  </thead>\n",
       "  <tbody>\n",
       "    <tr>\n",
       "      <th>No involvement</th>\n",
       "      <td>178</td>\n",
       "    </tr>\n",
       "    <tr>\n",
       "      <th>Unknown</th>\n",
       "      <td>169</td>\n",
       "    </tr>\n",
       "    <tr>\n",
       "      <th>Some involvement</th>\n",
       "      <td>91</td>\n",
       "    </tr>\n",
       "    <tr>\n",
       "      <th>Strong involvement</th>\n",
       "      <td>51</td>\n",
       "    </tr>\n",
       "  </tbody>\n",
       "</table>\n",
       "</div>"
      ],
      "text/plain": [
       "                    Political_Participation\n",
       "No involvement                          178\n",
       "Unknown                                 169\n",
       "Some involvement                         91\n",
       "Strong involvement                       51"
      ]
     },
     "execution_count": 241,
     "metadata": {},
     "output_type": "execute_result"
    }
   ],
   "source": [
    "# Check counts of categorical variables data test\n",
    "cols = ['Political_Participation']\n",
    "df_test[cols].apply(pd.Series.value_counts)"
   ]
  },
  {
   "cell_type": "code",
   "execution_count": 242,
   "id": "508a6a98",
   "metadata": {
    "id": "508a6a98",
    "outputId": "0fc4720e-ff93-4456-d9c2-22165f6213bc"
   },
   "outputs": [
    {
     "data": {
      "image/png": "[encoded data removed]",
      "text/plain": [
       "<Figure size 504x288 with 1 Axes>"
      ]
     },
     "metadata": {
      "needs_background": "light"
     },
     "output_type": "display_data"
    }
   ],
   "source": [
    "#Bar chart Political Participation data test\n",
    "\n",
    "fig, ax = plt.subplots(figsize=(7,4))\n",
    "g = sns.countplot(data=df_test, x=df_test['Political_Participation'])\n",
    "\n",
    "# Decoration\n",
    "fmt = \"{x:,.0f}\"\n",
    "sns.despine()\n",
    "plt.title(\"Political Participation\")\n",
    "plt.xlabel(\"Political_Participation\")\n",
    "plt.ylabel(\"frequency\")\n",
    "plt.rc('axes')"
   ]
  },
  {
   "cell_type": "code",
   "execution_count": 243,
   "id": "e8c44175",
   "metadata": {
    "id": "e8c44175",
    "outputId": "46854c78-489a-4db0-f293-a5ed340069e7"
   },
   "outputs": [
    {
     "data": {
      "text/html": [
       "<div>\n",
       "<style scoped>\n",
       "    .dataframe tbody tr th:only-of-type {\n",
       "        vertical-align: middle;\n",
       "    }\n",
       "\n",
       "    .dataframe tbody tr th {\n",
       "        vertical-align: top;\n",
       "    }\n",
       "\n",
       "    .dataframe thead th {\n",
       "        text-align: right;\n",
       "    }\n",
       "</style>\n",
       "<table border=\"1\" class=\"dataframe\">\n",
       "  <thead>\n",
       "    <tr style=\"text-align: right;\">\n",
       "      <th></th>\n",
       "      <th>Political_Participation</th>\n",
       "    </tr>\n",
       "  </thead>\n",
       "  <tbody>\n",
       "    <tr>\n",
       "      <th>No involvement</th>\n",
       "      <td>3125</td>\n",
       "    </tr>\n",
       "    <tr>\n",
       "      <th>Unknown</th>\n",
       "      <td>2505</td>\n",
       "    </tr>\n",
       "    <tr>\n",
       "      <th>Some involvement</th>\n",
       "      <td>1304</td>\n",
       "    </tr>\n",
       "    <tr>\n",
       "      <th>Strong involvement</th>\n",
       "      <td>942</td>\n",
       "    </tr>\n",
       "  </tbody>\n",
       "</table>\n",
       "</div>"
      ],
      "text/plain": [
       "                    Political_Participation\n",
       "No involvement                         3125\n",
       "Unknown                                2505\n",
       "Some involvement                       1304\n",
       "Strong involvement                      942"
      ]
     },
     "execution_count": 243,
     "metadata": {},
     "output_type": "execute_result"
    }
   ],
   "source": [
    "# Check counts of categorical variables data train\n",
    "cols = ['Political_Participation']\n",
    "df_train[cols].apply(pd.Series.value_counts)"
   ]
  },
  {
   "cell_type": "code",
   "execution_count": 244,
   "id": "6a868bba",
   "metadata": {
    "id": "6a868bba",
    "outputId": "75f65f2f-1df6-443e-c3ad-3669256ff15c"
   },
   "outputs": [
    {
     "data": {
      "image/png": "[encoded data removed]",
      "text/plain": [
       "<Figure size 504x288 with 1 Axes>"
      ]
     },
     "metadata": {
      "needs_background": "light"
     },
     "output_type": "display_data"
    }
   ],
   "source": [
    "#Bar chart Political Participation data train\n",
    "\n",
    "fig, ax = plt.subplots(figsize=(7,4))\n",
    "g = sns.countplot(data=df_train, x=df_train['Political_Participation'])\n",
    "\n",
    "# Decoration\n",
    "fmt = \"{x:,.0f}\"\n",
    "sns.despine()\n",
    "plt.title(\"Political Participation\")\n",
    "plt.xlabel(\"Political_Participation\")\n",
    "plt.ylabel(\"frequency\")\n",
    "plt.rc('axes')"
   ]
  },
  {
   "cell_type": "code",
   "execution_count": 245,
   "id": "56f070e6",
   "metadata": {
    "id": "56f070e6",
    "outputId": "a9e3d5e5-5884-4164-afd2-6fc05033bfd9"
   },
   "outputs": [
    {
     "data": {
      "text/html": [
       "<div>\n",
       "<style scoped>\n",
       "    .dataframe tbody tr th:only-of-type {\n",
       "        vertical-align: middle;\n",
       "    }\n",
       "\n",
       "    .dataframe tbody tr th {\n",
       "        vertical-align: top;\n",
       "    }\n",
       "\n",
       "    .dataframe thead th {\n",
       "        text-align: right;\n",
       "    }\n",
       "</style>\n",
       "<table border=\"1\" class=\"dataframe\">\n",
       "  <thead>\n",
       "    <tr style=\"text-align: right;\">\n",
       "      <th></th>\n",
       "      <th>Satisfaction_Level</th>\n",
       "    </tr>\n",
       "  </thead>\n",
       "  <tbody>\n",
       "    <tr>\n",
       "      <th>1.0</th>\n",
       "      <td>156</td>\n",
       "    </tr>\n",
       "    <tr>\n",
       "      <th>2.0</th>\n",
       "      <td>139</td>\n",
       "    </tr>\n",
       "    <tr>\n",
       "      <th>3.0</th>\n",
       "      <td>72</td>\n",
       "    </tr>\n",
       "    <tr>\n",
       "      <th>4.0</th>\n",
       "      <td>53</td>\n",
       "    </tr>\n",
       "    <tr>\n",
       "      <th>5.0</th>\n",
       "      <td>34</td>\n",
       "    </tr>\n",
       "    <tr>\n",
       "      <th>6.0</th>\n",
       "      <td>9</td>\n",
       "    </tr>\n",
       "    <tr>\n",
       "      <th>7.0</th>\n",
       "      <td>6</td>\n",
       "    </tr>\n",
       "    <tr>\n",
       "      <th>8.0</th>\n",
       "      <td>4</td>\n",
       "    </tr>\n",
       "    <tr>\n",
       "      <th>9.0</th>\n",
       "      <td>3</td>\n",
       "    </tr>\n",
       "  </tbody>\n",
       "</table>\n",
       "</div>"
      ],
      "text/plain": [
       "     Satisfaction_Level\n",
       "1.0                 156\n",
       "2.0                 139\n",
       "3.0                  72\n",
       "4.0                  53\n",
       "5.0                  34\n",
       "6.0                   9\n",
       "7.0                   6\n",
       "8.0                   4\n",
       "9.0                   3"
      ]
     },
     "execution_count": 245,
     "metadata": {},
     "output_type": "execute_result"
    }
   ],
   "source": [
    "# Check counts of categorical variables data test\n",
    "cols = ['Satisfaction_Level']\n",
    "df_test[cols].apply(pd.Series.value_counts)"
   ]
  },
  {
   "cell_type": "code",
   "execution_count": 246,
   "id": "1c11385b",
   "metadata": {
    "id": "1c11385b",
    "outputId": "dea18977-1a7e-4674-8d17-2e0c083a6f60"
   },
   "outputs": [
    {
     "data": {
      "image/png": "[encoded data removed]",
      "text/plain": [
       "<Figure size 504x288 with 1 Axes>"
      ]
     },
     "metadata": {
      "needs_background": "light"
     },
     "output_type": "display_data"
    }
   ],
   "source": [
    "#Bar chart Satisfaction_Level data test\n",
    "\n",
    "fig, ax = plt.subplots(figsize=(7,4))\n",
    "g = sns.countplot(data=df_test, x=df_test['Satisfaction_Level'])\n",
    "\n",
    "# Decoration\n",
    "fmt = \"{x:,.0f}\"\n",
    "sns.despine()\n",
    "plt.title(\"Satisfaction_Level\")\n",
    "plt.xlabel(\"Satisfaction_Level\")\n",
    "plt.ylabel(\"frequency\")\n",
    "plt.rc('axes')"
   ]
  },
  {
   "cell_type": "code",
   "execution_count": 247,
   "id": "83512b34",
   "metadata": {
    "id": "83512b34",
    "outputId": "b86d1710-a74e-4d23-bae4-0292c513977e"
   },
   "outputs": [
    {
     "data": {
      "text/html": [
       "<div>\n",
       "<style scoped>\n",
       "    .dataframe tbody tr th:only-of-type {\n",
       "        vertical-align: middle;\n",
       "    }\n",
       "\n",
       "    .dataframe tbody tr th {\n",
       "        vertical-align: top;\n",
       "    }\n",
       "\n",
       "    .dataframe thead th {\n",
       "        text-align: right;\n",
       "    }\n",
       "</style>\n",
       "<table border=\"1\" class=\"dataframe\">\n",
       "  <thead>\n",
       "    <tr style=\"text-align: right;\">\n",
       "      <th></th>\n",
       "      <th>Satisfaction_Level</th>\n",
       "    </tr>\n",
       "  </thead>\n",
       "  <tbody>\n",
       "    <tr>\n",
       "      <th>2.0</th>\n",
       "      <td>2482</td>\n",
       "    </tr>\n",
       "    <tr>\n",
       "      <th>1.0</th>\n",
       "      <td>2147</td>\n",
       "    </tr>\n",
       "    <tr>\n",
       "      <th>3.0</th>\n",
       "      <td>1122</td>\n",
       "    </tr>\n",
       "    <tr>\n",
       "      <th>4.0</th>\n",
       "      <td>906</td>\n",
       "    </tr>\n",
       "    <tr>\n",
       "      <th>5.0</th>\n",
       "      <td>514</td>\n",
       "    </tr>\n",
       "    <tr>\n",
       "      <th>6.0</th>\n",
       "      <td>182</td>\n",
       "    </tr>\n",
       "    <tr>\n",
       "      <th>7.0</th>\n",
       "      <td>127</td>\n",
       "    </tr>\n",
       "    <tr>\n",
       "      <th>8.0</th>\n",
       "      <td>99</td>\n",
       "    </tr>\n",
       "    <tr>\n",
       "      <th>9.0</th>\n",
       "      <td>91</td>\n",
       "    </tr>\n",
       "  </tbody>\n",
       "</table>\n",
       "</div>"
      ],
      "text/plain": [
       "     Satisfaction_Level\n",
       "2.0                2482\n",
       "1.0                2147\n",
       "3.0                1122\n",
       "4.0                 906\n",
       "5.0                 514\n",
       "6.0                 182\n",
       "7.0                 127\n",
       "8.0                  99\n",
       "9.0                  91"
      ]
     },
     "execution_count": 247,
     "metadata": {},
     "output_type": "execute_result"
    }
   ],
   "source": [
    "# Check counts of categorical variables data train\n",
    "cols = ['Satisfaction_Level']\n",
    "df_train[cols].apply(pd.Series.value_counts)"
   ]
  },
  {
   "cell_type": "code",
   "execution_count": 248,
   "id": "b6ac37f3",
   "metadata": {
    "id": "b6ac37f3",
    "outputId": "93869b4e-a7d5-447b-b23b-69a4cffe3054"
   },
   "outputs": [
    {
     "data": {
      "image/png": "[encoded data removed]",
      "text/plain": [
       "<Figure size 504x288 with 1 Axes>"
      ]
     },
     "metadata": {
      "needs_background": "light"
     },
     "output_type": "display_data"
    }
   ],
   "source": [
    "#Bar chart Satisfaction_Level data train\n",
    "\n",
    "fig, ax = plt.subplots(figsize=(7,4))\n",
    "g = sns.countplot(data=df_train, x=df_train['Satisfaction_Level'])\n",
    "\n",
    "# Decoration\n",
    "fmt = \"{x:,.0f}\"\n",
    "sns.despine()\n",
    "plt.title(\"Satisfaction_Level\")\n",
    "plt.xlabel(\"Satisfaction_Level\")\n",
    "plt.ylabel(\"frequency\")\n",
    "plt.rc('axes')"
   ]
  },
  {
   "cell_type": "code",
   "execution_count": 249,
   "id": "61cf9397",
   "metadata": {
    "id": "61cf9397",
    "outputId": "fc3a0a4b-b536-48dc-ae84-9e277b59d45d"
   },
   "outputs": [
    {
     "data": {
      "image/png": "[encoded data removed]",
      "text/plain": [
       "<Figure size 576x720 with 2 Axes>"
      ]
     },
     "metadata": {
      "needs_background": "light"
     },
     "output_type": "display_data"
    }
   ],
   "source": [
    "# CORRELATION\n",
    "\n",
    "# Create correlation matrix\n",
    "#corr = df_test[numerical].corr(method='spearman')\n",
    "corr = df_test.corr(method='spearman')\n",
    "mask = np.zeros_like(corr, dtype=np.bool)\n",
    "mask[np.triu_indices_from(mask)]= True\n",
    "\n",
    "# Draw\n",
    "fig , ax = plt.subplots(figsize=(8, 10))\n",
    "heatmap = sns.heatmap(corr,\n",
    "                      mask = mask,\n",
    "                      square = True,\n",
    "                      linewidths = .5,\n",
    "                      cmap = 'viridis',\n",
    "                      cbar_kws = {'shrink': .4,\n",
    "                                'ticks' : [-1, -.5, 0, 0.5, 1]},\n",
    "                      fmt='.2f',\n",
    "                      vmin = -1,\n",
    "                      vmax = 1,\n",
    "                      annot = True,\n",
    "                      annot_kws = {'size': 8})\n",
    "\n",
    "# Decoration\n",
    "#plt.title(\"Spearman correlation between numeric variables\", 12)\n",
    "ax.set_yticklabels(corr.columns, rotation = 0)\n",
    "ax.set_xticklabels(corr.columns, rotation = 45)\n",
    "sns.set_style({'xtick.bottom': True}, {'ytick.left': True})\n",
    "\n",
    "\n",
    "\n"
   ]
  },
  {
   "cell_type": "code",
   "execution_count": 250,
   "id": "1e756dc2",
   "metadata": {
    "id": "1e756dc2",
    "outputId": "e0dfece8-4452-4e50-ace8-65f2df709fb6"
   },
   "outputs": [
    {
     "data": {
      "image/png": "[encoded data removed]",
      "text/plain": [
       "<Figure size 576x720 with 2 Axes>"
      ]
     },
     "metadata": {
      "needs_background": "light"
     },
     "output_type": "display_data"
    }
   ],
   "source": [
    "# CORRELATION\n",
    "\n",
    "# Create correlation matrix\n",
    "#corr = df_train[numerical].corr(method='spearman')\n",
    "corr = df_train.corr(method='spearman')\n",
    "mask = np.zeros_like(corr, dtype=np.bool)\n",
    "mask[np.triu_indices_from(mask)]= True\n",
    "\n",
    "# Draw\n",
    "fig , ax = plt.subplots(figsize=(8, 10))\n",
    "heatmap = sns.heatmap(corr,\n",
    "                      mask = mask,\n",
    "                      square = True,\n",
    "                      linewidths = .5,\n",
    "                      cmap = 'viridis',\n",
    "                      cbar_kws = {'shrink': .4,\n",
    "                                'ticks' : [-1, -.5, 0, 0.5, 1]},\n",
    "                      fmt='.2f',\n",
    "                      vmin = -1,\n",
    "                      vmax = 1,\n",
    "                      annot = True,\n",
    "                      annot_kws = {'size': 8})\n",
    "\n",
    "# Decoration\n",
    "#plt.title(\"Spearman correlation between numeric variables\", 12)\n",
    "ax.set_yticklabels(corr.columns, rotation = 0)\n",
    "ax.set_xticklabels(corr.columns, rotation = 45)\n",
    "sns.set_style({'xtick.bottom': True}, {'ytick.left': True})\n"
   ]
  },
  {
   "cell_type": "code",
   "execution_count": 251,
   "id": "e5ac44e2",
   "metadata": {
    "id": "e5ac44e2"
   },
   "outputs": [],
   "source": [
    "df_train_prep, X, y, X_train, X_test, y_train, y_test = prepare_data(df_train,df_train)\n",
    "df_test_prep, X_val, y_, X_train_, X_test_, y_train_, y_test_ = prepare_data(df_train,df_test)"
   ]
  },
  {
   "cell_type": "markdown",
   "id": "489cf461",
   "metadata": {
    "id": "489cf461"
   },
   "source": [
    "# Modeling"
   ]
  },
  {
   "cell_type": "code",
   "execution_count": 252,
   "id": "51309ae0",
   "metadata": {
    "id": "51309ae0"
   },
   "outputs": [],
   "source": [
    "# Build class to store models and parameters\n",
    "import xgboost as xgb\n",
    "from sklearn.dummy import DummyClassifier\n",
    "from sklearn import svm\n",
    "from sklearn.naive_bayes import GaussianNB\n",
    "from sklearn.neighbors import KNeighborsClassifier\n",
    "from sklearn.linear_model import LogisticRegression\n",
    "from skopt.space import Real, Categorical, Integer\n",
    "import lightgbm as lgb\n",
    "from sklearn.ensemble import AdaBoostClassifier\n",
    "\n",
    "\n",
    "class classification_models:\n",
    "    def __init__(self):\n",
    "        self.baseline = self.baseline()\n",
    "        self.svc = self.svc()\n",
    "        self.naive_bayes = self.naive_bayes()\n",
    "        self.knn = self.knn()\n",
    "        self.logistic_regression = self.logistic_regression()\n",
    "        self.xgboost = self.xgboost()\n",
    "        self.ada = self.ada()\n",
    "        self.lgb = self.lgb()\n",
    "\n",
    "\n",
    "class baseline:\n",
    "    model = DummyClassifier()\n",
    "\n",
    "    parameters = {\n",
    "                   'model__strategy': ['uniform'],\n",
    "                   'model__random_state': [8]\n",
    "                 }\n",
    "\n",
    "    @staticmethod\n",
    "    def best_model(params):\n",
    "        clf = DummyClassifier(**params)\n",
    "        return clf\n",
    "\n",
    "\n",
    "class svc:\n",
    "    model = svm.SVC()\n",
    "\n",
    "    parameters = {'model__C': [0.1, 1, 10, 100],\n",
    "                  'model__gamma': [1, 0.1, 0.01, 0.001],\n",
    "                  'model__kernel': ['rbf', 'poly', 'sigmoid']}\n",
    "\n",
    "    @staticmethod\n",
    "    def best_model(params):\n",
    "        clf = svm.SVC(**params)\n",
    "        return clf\n",
    "\n",
    "\n",
    "class naive_bayes:\n",
    "    model = GaussianNB()\n",
    "\n",
    "    parameters = {\n",
    "                'model__var_smoothing': [1e-2, 1e-4, 1e-6,1e-8,1e-10,1e-12,1e-14,1e-16]\n",
    "                 }\n",
    "\n",
    "    @staticmethod\n",
    "    def best_model(params):\n",
    "        clf = GaussianNB(**params)\n",
    "        return clf\n",
    "\n",
    "class knn:\n",
    "    model = KNeighborsClassifier()\n",
    "\n",
    "    parameters = {'model__n_neighbors': Integer(3, 100),\n",
    "                  'model__weights': Categorical(categories=['uniform', 'distance']),\n",
    "                  'model__algorithm': Categorical(categories=['auto', 'ball_tree', 'kd_tree', 'brute']),\n",
    "                  'model__leaf_size': Integer(5, 50)\n",
    "                  }\n",
    "\n",
    "    @staticmethod\n",
    "    def best_model(params):\n",
    "        clf = KNeighborsClassifier()\n",
    "        return clf\n",
    "\n",
    "class logistic_regression:\n",
    "    model = LogisticRegression()\n",
    "\n",
    "    parameters = {\n",
    "                   'model__penalty': ['l1', 'l2', 'elasticnet', 'none'],\n",
    "                   'model__C': [1e-2, 1e-4, 0.01, 0.1,0.3, 0.5,0.8, 1],\n",
    "                   'model__random_state': [8]\n",
    "                 }\n",
    "\n",
    "    @staticmethod\n",
    "    def best_model(params):\n",
    "        clf = LogisticRegression(**params)\n",
    "        return clf\n",
    "\n",
    "class xgboost:\n",
    "    model = xgb.XGBClassifier()\n",
    "\n",
    "    parameters = {\n",
    "                   'model__learning_rate': Real(0.01,1.0,'uniform'),\n",
    "                   'model__max_depth': Integer(2, 100),\n",
    "                   'model__min_samples_leaf': Integer(2, 100),\n",
    "                   'model__min_samples_split': Integer(2, 100),\n",
    "                   'model__subsample': Real(0.1,1.0,'uniform'),\n",
    "                   'model__n_estimators': Integer(10, 500),\n",
    "                   'model__random_state': [16],\n",
    "                 }\n",
    "\n",
    "\n",
    "    @staticmethod\n",
    "    def best_model(params):\n",
    "        clf = xgb.XGBClassifier(**params)\n",
    "        return clf\n",
    "\n",
    "\n",
    "\n",
    "class ada:\n",
    "    model = AdaBoostClassifier()\n",
    "\n",
    "    parameters = {\n",
    "                   'model__learning_rate': Real(0.01,1.0,'uniform'),\n",
    "                   'model__n_estimators': Integer(10, 500),\n",
    "                   'model__random_state': [16],\n",
    "                 }\n",
    "\n",
    "\n",
    "    @staticmethod\n",
    "    def best_model(params):\n",
    "        clf = AdaBoostClassifier(**params)\n",
    "        return clf\n",
    "    \n",
    "class lgb:\n",
    "    model = lgb.LGBMClassifier()\n",
    "\n",
    "    parameters = {\n",
    "                   'model__learning_rate': Real(0.01,1.0,'uniform'),\n",
    "                   'model__max_depth': Integer(2, 100),\n",
    "                   'model__min_samples_leaf': Integer(2, 100),\n",
    "                   'model__min_samples_split': Integer(2, 100),\n",
    "                   'model__subsample': Real(0.1,1.0,'uniform'),\n",
    "                   'model__n_estimators': Integer(10, 500),\n",
    "                   'model__random_state': [16],\n",
    "                 }\n",
    "\n",
    "\n",
    "    @staticmethod\n",
    "    def best_model(params):\n",
    "        clf = lgb.LGBMClassifier(**params)\n",
    "        return clf"
   ]
  },
  {
   "cell_type": "code",
   "execution_count": 253,
   "id": "40bbfae4",
   "metadata": {
    "id": "40bbfae4"
   },
   "outputs": [],
   "source": [
    "from sklearn.feature_selection import RFECV\n",
    "from sklearn.feature_selection import f_classif\n",
    "from sklearn.feature_selection import SelectKBest\n",
    "\n",
    "# Function to build models\n",
    "def build_model(X,y,niter,model_list=list):\n",
    "    '''model_list = [baseline, svc, naive_bayes, knn, logistic_regression, xgboost]'''\n",
    "    gsearchs = []\n",
    "    best_models = []\n",
    "    scores = []\n",
    "    best_params = []\n",
    "    cv_results = []\n",
    "    \n",
    "    print('---------------- MODEL TRAINING ----------------')\n",
    "    \n",
    "    for i in model_list:\n",
    "        \n",
    "        string = str(i)\n",
    "        model_name_ = string[string.find('.')+1:]\n",
    "        model_name = model_name_[0:model_name_.find('>')-1].strip()       \n",
    "        print('\\nModel: ', model_name)\n",
    "        \n",
    "        # Get model\n",
    "        model = i.model\n",
    "        \n",
    "        # Import RFE\n",
    "        #select = RFE(model, n_features_to_select=5, step=1)\n",
    "        #select = RFECV(model, step=1, min_features_to_select=7,scoring='f1')\n",
    "        select = SelectKBest(f_classif, k=10)\n",
    "        \n",
    "        # Create pipeline\n",
    "        pipe = Pipeline([('scaler', MinMaxScaler()),('selector', select),('model',model)])\n",
    "        #pipe = Pipeline([('scaler', MinMaxScaler()),('model',model)])\n",
    "        #pipe = Pipeline([('model',model)])\n",
    "    \n",
    "        # Get hyperparameter grid\n",
    "        param_search = i.parameters\n",
    "        \n",
    "        # Stratified k-fold cross-validation\n",
    "        skf = StratifiedKFold(n_splits=5)\n",
    "        my_cv = [(train,test) for train, test in skf.split(X,y)]\n",
    "        \n",
    "        gsearch = BayesSearchCV(pipe, cv=skf, search_spaces=param_search, n_jobs=10,scoring='f1',\n",
    "                                     verbose=True,refit=True,n_iter=niter)\n",
    "        \n",
    "        #gsearch = BayesSearchCV(pipe, search_spaces=param_search, n_jobs=10,scoring='f1',\n",
    "        #                             verbose=True,n_iter=niter)\n",
    "        \n",
    "        gsearch.fit(X, y)\n",
    "        \n",
    "        '''sorted_idx = gsearch.best_estimator_.named_steps[\"model\"].feature_importances_.argsort()\n",
    "        plt.barh(X.columns[sorted_idx], gsearch.best_estimator_.named_steps[\"model\"].feature_importances_[sorted_idx])\n",
    "        plt.xlabel(\"Xgboost Feature Importance\")'''\n",
    "        \n",
    "        \n",
    "        gsearchs.append(gsearch)\n",
    "        best_models.append(gsearch.best_estimator_)\n",
    "        scores.append(gsearch.best_score_)\n",
    "        best_params.append(gsearch.best_params_)\n",
    "        cv_results.append(gsearch.cv_results_)\n",
    "        \n",
    "        print('CV accuracy for model {0}: {1}'.format(model_name,gsearch.best_score_))\n",
    "        \n",
    "    return gsearchs,best_models,scores,best_params,cv_results"
   ]
  },
  {
   "cell_type": "code",
   "execution_count": 254,
   "id": "d0b779eb",
   "metadata": {
    "id": "d0b779eb"
   },
   "outputs": [
    {
     "name": "stdout",
     "output_type": "stream",
     "text": [
      "---------------- MODEL TRAINING ----------------\n",
      "\n",
      "Model:  lgb\n",
      "Fitting 5 folds for each of 1 candidates, totalling 5 fits\n",
      "Fitting 5 folds for each of 1 candidates, totalling 5 fits\n",
      "Fitting 5 folds for each of 1 candidates, totalling 5 fits\n",
      "Fitting 5 folds for each of 1 candidates, totalling 5 fits\n",
      "Fitting 5 folds for each of 1 candidates, totalling 5 fits\n",
      "Fitting 5 folds for each of 1 candidates, totalling 5 fits\n",
      "Fitting 5 folds for each of 1 candidates, totalling 5 fits\n",
      "Fitting 5 folds for each of 1 candidates, totalling 5 fits\n",
      "Fitting 5 folds for each of 1 candidates, totalling 5 fits\n",
      "Fitting 5 folds for each of 1 candidates, totalling 5 fits\n",
      "Fitting 5 folds for each of 1 candidates, totalling 5 fits\n",
      "Fitting 5 folds for each of 1 candidates, totalling 5 fits\n",
      "Fitting 5 folds for each of 1 candidates, totalling 5 fits\n",
      "Fitting 5 folds for each of 1 candidates, totalling 5 fits\n",
      "Fitting 5 folds for each of 1 candidates, totalling 5 fits\n",
      "Fitting 5 folds for each of 1 candidates, totalling 5 fits\n",
      "Fitting 5 folds for each of 1 candidates, totalling 5 fits\n",
      "Fitting 5 folds for each of 1 candidates, totalling 5 fits\n",
      "Fitting 5 folds for each of 1 candidates, totalling 5 fits\n",
      "Fitting 5 folds for each of 1 candidates, totalling 5 fits\n",
      "Fitting 5 folds for each of 1 candidates, totalling 5 fits\n",
      "Fitting 5 folds for each of 1 candidates, totalling 5 fits\n",
      "Fitting 5 folds for each of 1 candidates, totalling 5 fits\n",
      "Fitting 5 folds for each of 1 candidates, totalling 5 fits\n",
      "Fitting 5 folds for each of 1 candidates, totalling 5 fits\n",
      "Fitting 5 folds for each of 1 candidates, totalling 5 fits\n",
      "Fitting 5 folds for each of 1 candidates, totalling 5 fits\n",
      "Fitting 5 folds for each of 1 candidates, totalling 5 fits\n",
      "Fitting 5 folds for each of 1 candidates, totalling 5 fits\n",
      "Fitting 5 folds for each of 1 candidates, totalling 5 fits\n",
      "Fitting 5 folds for each of 1 candidates, totalling 5 fits\n",
      "Fitting 5 folds for each of 1 candidates, totalling 5 fits\n",
      "Fitting 5 folds for each of 1 candidates, totalling 5 fits\n",
      "Fitting 5 folds for each of 1 candidates, totalling 5 fits\n",
      "Fitting 5 folds for each of 1 candidates, totalling 5 fits\n",
      "Fitting 5 folds for each of 1 candidates, totalling 5 fits\n",
      "Fitting 5 folds for each of 1 candidates, totalling 5 fits\n",
      "Fitting 5 folds for each of 1 candidates, totalling 5 fits\n",
      "Fitting 5 folds for each of 1 candidates, totalling 5 fits\n",
      "Fitting 5 folds for each of 1 candidates, totalling 5 fits\n",
      "Fitting 5 folds for each of 1 candidates, totalling 5 fits\n",
      "Fitting 5 folds for each of 1 candidates, totalling 5 fits\n",
      "Fitting 5 folds for each of 1 candidates, totalling 5 fits\n",
      "Fitting 5 folds for each of 1 candidates, totalling 5 fits\n",
      "Fitting 5 folds for each of 1 candidates, totalling 5 fits\n",
      "Fitting 5 folds for each of 1 candidates, totalling 5 fits\n",
      "Fitting 5 folds for each of 1 candidates, totalling 5 fits\n",
      "Fitting 5 folds for each of 1 candidates, totalling 5 fits\n",
      "Fitting 5 folds for each of 1 candidates, totalling 5 fits\n",
      "Fitting 5 folds for each of 1 candidates, totalling 5 fits\n",
      "Fitting 5 folds for each of 1 candidates, totalling 5 fits\n",
      "Fitting 5 folds for each of 1 candidates, totalling 5 fits\n",
      "Fitting 5 folds for each of 1 candidates, totalling 5 fits\n",
      "Fitting 5 folds for each of 1 candidates, totalling 5 fits\n",
      "Fitting 5 folds for each of 1 candidates, totalling 5 fits\n",
      "Fitting 5 folds for each of 1 candidates, totalling 5 fits\n",
      "Fitting 5 folds for each of 1 candidates, totalling 5 fits\n",
      "Fitting 5 folds for each of 1 candidates, totalling 5 fits\n",
      "Fitting 5 folds for each of 1 candidates, totalling 5 fits\n",
      "Fitting 5 folds for each of 1 candidates, totalling 5 fits\n",
      "Fitting 5 folds for each of 1 candidates, totalling 5 fits\n",
      "Fitting 5 folds for each of 1 candidates, totalling 5 fits\n",
      "Fitting 5 folds for each of 1 candidates, totalling 5 fits\n",
      "Fitting 5 folds for each of 1 candidates, totalling 5 fits\n",
      "Fitting 5 folds for each of 1 candidates, totalling 5 fits\n",
      "Fitting 5 folds for each of 1 candidates, totalling 5 fits\n",
      "Fitting 5 folds for each of 1 candidates, totalling 5 fits\n",
      "Fitting 5 folds for each of 1 candidates, totalling 5 fits\n",
      "Fitting 5 folds for each of 1 candidates, totalling 5 fits\n",
      "Fitting 5 folds for each of 1 candidates, totalling 5 fits\n",
      "Fitting 5 folds for each of 1 candidates, totalling 5 fits\n",
      "Fitting 5 folds for each of 1 candidates, totalling 5 fits\n",
      "Fitting 5 folds for each of 1 candidates, totalling 5 fits\n",
      "Fitting 5 folds for each of 1 candidates, totalling 5 fits\n",
      "Fitting 5 folds for each of 1 candidates, totalling 5 fits\n",
      "Fitting 5 folds for each of 1 candidates, totalling 5 fits\n",
      "Fitting 5 folds for each of 1 candidates, totalling 5 fits\n",
      "Fitting 5 folds for each of 1 candidates, totalling 5 fits\n",
      "Fitting 5 folds for each of 1 candidates, totalling 5 fits\n",
      "Fitting 5 folds for each of 1 candidates, totalling 5 fits\n",
      "Fitting 5 folds for each of 1 candidates, totalling 5 fits\n",
      "Fitting 5 folds for each of 1 candidates, totalling 5 fits\n",
      "Fitting 5 folds for each of 1 candidates, totalling 5 fits\n",
      "Fitting 5 folds for each of 1 candidates, totalling 5 fits\n",
      "Fitting 5 folds for each of 1 candidates, totalling 5 fits\n",
      "Fitting 5 folds for each of 1 candidates, totalling 5 fits\n",
      "Fitting 5 folds for each of 1 candidates, totalling 5 fits\n",
      "Fitting 5 folds for each of 1 candidates, totalling 5 fits\n",
      "Fitting 5 folds for each of 1 candidates, totalling 5 fits\n",
      "Fitting 5 folds for each of 1 candidates, totalling 5 fits\n",
      "Fitting 5 folds for each of 1 candidates, totalling 5 fits\n",
      "Fitting 5 folds for each of 1 candidates, totalling 5 fits\n",
      "Fitting 5 folds for each of 1 candidates, totalling 5 fits\n",
      "Fitting 5 folds for each of 1 candidates, totalling 5 fits\n",
      "Fitting 5 folds for each of 1 candidates, totalling 5 fits\n",
      "Fitting 5 folds for each of 1 candidates, totalling 5 fits\n",
      "Fitting 5 folds for each of 1 candidates, totalling 5 fits\n",
      "Fitting 5 folds for each of 1 candidates, totalling 5 fits\n",
      "Fitting 5 folds for each of 1 candidates, totalling 5 fits\n",
      "Fitting 5 folds for each of 1 candidates, totalling 5 fits\n",
      "[LightGBM] [Warning] Unknown parameter: min_samples_split\n",
      "[LightGBM] [Warning] min_data_in_leaf is set with min_samples_leaf=49, min_child_samples=20 will be ignored. Current value: min_data_in_leaf=49\n",
      "CV accuracy for model lgb: 0.7386214671820486\n"
     ]
    }
   ],
   "source": [
    "model_list=[lgb] # [svc, naive_bayes, knn, xgboost, ada, lgb]\n",
    "gsearchs,best_models,scores,best_params,cv_results = build_model(X_train,y_train, 100,model_list)\n"
   ]
  },
  {
   "cell_type": "code",
   "execution_count": 255,
   "id": "b297a0f9",
   "metadata": {
    "id": "b297a0f9"
   },
   "outputs": [
    {
     "name": "stdout",
     "output_type": "stream",
     "text": [
      "[0.7386214671820486]\n"
     ]
    }
   ],
   "source": [
    "print(scores)"
   ]
  },
  {
   "cell_type": "code",
   "execution_count": 267,
   "id": "748d816b",
   "metadata": {},
   "outputs": [
    {
     "data": {
      "text/html": [
       "<div>\n",
       "<style scoped>\n",
       "    .dataframe tbody tr th:only-of-type {\n",
       "        vertical-align: middle;\n",
       "    }\n",
       "\n",
       "    .dataframe tbody tr th {\n",
       "        vertical-align: top;\n",
       "    }\n",
       "\n",
       "    .dataframe thead th {\n",
       "        text-align: right;\n",
       "    }\n",
       "</style>\n",
       "<table border=\"1\" class=\"dataframe\">\n",
       "  <thead>\n",
       "    <tr style=\"text-align: right;\">\n",
       "      <th></th>\n",
       "      <th>support</th>\n",
       "    </tr>\n",
       "  </thead>\n",
       "  <tbody>\n",
       "    <tr>\n",
       "      <th>Age</th>\n",
       "      <td>True</td>\n",
       "    </tr>\n",
       "    <tr>\n",
       "      <th>Household_Size</th>\n",
       "      <td>False</td>\n",
       "    </tr>\n",
       "    <tr>\n",
       "      <th>Satisfaction_Level</th>\n",
       "      <td>False</td>\n",
       "    </tr>\n",
       "    <tr>\n",
       "      <th>Household_Income</th>\n",
       "      <td>True</td>\n",
       "    </tr>\n",
       "    <tr>\n",
       "      <th>CD_Gender</th>\n",
       "      <td>False</td>\n",
       "    </tr>\n",
       "    <tr>\n",
       "      <th>CD_Foreign_Citizenship</th>\n",
       "      <td>True</td>\n",
       "    </tr>\n",
       "    <tr>\n",
       "      <th>CD_Frequent_Traveler</th>\n",
       "      <td>True</td>\n",
       "    </tr>\n",
       "    <tr>\n",
       "      <th>CD_Cellphone_Usage</th>\n",
       "      <td>True</td>\n",
       "    </tr>\n",
       "    <tr>\n",
       "      <th>CD_Occupation</th>\n",
       "      <td>False</td>\n",
       "    </tr>\n",
       "    <tr>\n",
       "      <th>CD_Political_Participation</th>\n",
       "      <td>True</td>\n",
       "    </tr>\n",
       "    <tr>\n",
       "      <th>CD_Social_Person</th>\n",
       "      <td>True</td>\n",
       "    </tr>\n",
       "    <tr>\n",
       "      <th>CD_Area_Residence</th>\n",
       "      <td>True</td>\n",
       "    </tr>\n",
       "    <tr>\n",
       "      <th>CD_Military_Service</th>\n",
       "      <td>False</td>\n",
       "    </tr>\n",
       "    <tr>\n",
       "      <th>CD_Household_Size_BIN</th>\n",
       "      <td>False</td>\n",
       "    </tr>\n",
       "    <tr>\n",
       "      <th>CD_Satisfaction_Level_BIN</th>\n",
       "      <td>True</td>\n",
       "    </tr>\n",
       "    <tr>\n",
       "      <th>CD_Household_Income_BIN</th>\n",
       "      <td>True</td>\n",
       "    </tr>\n",
       "    <tr>\n",
       "      <th>CD_Age_BIN</th>\n",
       "      <td>False</td>\n",
       "    </tr>\n",
       "  </tbody>\n",
       "</table>\n",
       "</div>"
      ],
      "text/plain": [
       "                            support\n",
       "Age                            True\n",
       "Household_Size                False\n",
       "Satisfaction_Level            False\n",
       "Household_Income               True\n",
       "CD_Gender                     False\n",
       "CD_Foreign_Citizenship         True\n",
       "CD_Frequent_Traveler           True\n",
       "CD_Cellphone_Usage             True\n",
       "CD_Occupation                 False\n",
       "CD_Political_Participation     True\n",
       "CD_Social_Person               True\n",
       "CD_Area_Residence              True\n",
       "CD_Military_Service           False\n",
       "CD_Household_Size_BIN         False\n",
       "CD_Satisfaction_Level_BIN      True\n",
       "CD_Household_Income_BIN        True\n",
       "CD_Age_BIN                    False"
      ]
     },
     "execution_count": 267,
     "metadata": {},
     "output_type": "execute_result"
    }
   ],
   "source": [
    "selected_features"
   ]
  },
  {
   "cell_type": "code",
   "execution_count": 257,
   "id": "577387af-e7ac-4230-90bc-532fd08bb201",
   "metadata": {},
   "outputs": [
    {
     "data": {
      "text/plain": [
       "[Pipeline(steps=[('scaler', MinMaxScaler()), ('selector', SelectKBest()),\n",
       "                 ('model',\n",
       "                  LGBMClassifier(learning_rate=0.01, max_depth=2,\n",
       "                                 min_samples_leaf=49, min_samples_split=13,\n",
       "                                 n_estimators=193, random_state=16,\n",
       "                                 subsample=0.5658606452764399))])]"
      ]
     },
     "execution_count": 257,
     "metadata": {},
     "output_type": "execute_result"
    }
   ],
   "source": [
    "best_models"
   ]
  },
  {
   "cell_type": "markdown",
   "id": "e5dfcfb2",
   "metadata": {
    "id": "e5dfcfb2"
   },
   "source": [
    "## Performance Assessment"
   ]
  },
  {
   "cell_type": "code",
   "execution_count": 263,
   "id": "929818e1",
   "metadata": {},
   "outputs": [
    {
     "name": "stdout",
     "output_type": "stream",
     "text": [
      "---------------- MODEL EVALUATION - TRAIN ----------------\n",
      "\n",
      "Model #1: LGBMClassifier\n",
      "Accuracy:  0.7507462686567165\n",
      "Average F1 Score:  0.7501027372784448\n",
      "F1 Score by Class:  [0.76278409 0.73742138]\n",
      "Average Precision:  0.7502815919330615\n",
      "Precision by Class:  [0.75847458 0.74208861]\n",
      "Average Recall:  [0.76714286 0.7328125 ]\n",
      "Recall by Class:  0.7499776785714285\n",
      "ROC AUC score by Class:  0\n",
      "\n",
      "Confusion Matrix:\n",
      " [[2148  652]\n",
      " [ 684 1876]]\n",
      "\n",
      "Classification Report:\n",
      "               precision    recall  f1-score   support\n",
      "\n",
      "           0       0.76      0.77      0.76      2800\n",
      "           1       0.74      0.73      0.74      2560\n",
      "\n",
      "    accuracy                           0.75      5360\n",
      "   macro avg       0.75      0.75      0.75      5360\n",
      "weighted avg       0.75      0.75      0.75      5360\n",
      "\n",
      "\n",
      "Best Model: #1 LGBMClassifier\n"
     ]
    }
   ],
   "source": [
    "# Function to evaluate models\n",
    "def evaluate_model(X_test, X_train,y_train, y_test, best_models):\n",
    "    \n",
    "    acc_results = []\n",
    "    f1_results = []\n",
    "    \n",
    "    print('---------------- MODEL EVALUATION - TRAIN ----------------')\n",
    "    \n",
    "    model_counter = 1\n",
    "    for i in best_models:\n",
    "        \n",
    "        string = str(i)\n",
    "        model_name_ = string[string.find(''''model',''')+len(''''model', '''):]\n",
    "        model_name = model_name_[0:model_name_.find('(')].strip() \n",
    "        print('\\nModel #{0}: {1}'.format(model_counter,model_name))\n",
    "        \n",
    "        # Predict\n",
    "        y_pred = i.predict(X_test)        \n",
    "        df_pred = pd.DataFrame(data=y_pred, columns=['Spy'],index=y_test.index)\n",
    "        \n",
    "        # Evaluation metrics\n",
    "        accuracy = metrics.accuracy_score(y_test, y_pred)\n",
    "        f1 = metrics.f1_score(y_test, y_pred, average=None)  \n",
    "        precision = precision_score(y_test, y_pred, average=None)\n",
    "        recall = recall_score(y_test, y_pred, average=None)\n",
    "        \n",
    "        \n",
    "        # Labels to binarize\n",
    "        labels = [0, 1, 2]\n",
    "\n",
    "        # Binarize ytest with shape (n_samples, n_classes)\n",
    "        ytest = label_binarize(y_test, classes=labels)\n",
    "\n",
    "        # Binarize ypreds with shape (n_samples, n_classes)\n",
    "        ypreds = label_binarize(y_pred, classes=labels)\n",
    "        \n",
    "        # Get roc auc result\n",
    "        #roc_auc = roc_auc_score(ytest, ypreds, average=None)\n",
    "        roc_auc = 0\n",
    "        \n",
    "        acc_results.append(accuracy)\n",
    "        f1_results.append(f1)\n",
    "        \n",
    "        print('Accuracy: ',accuracy)\n",
    "        print('Average F1 Score: ',f1.mean())\n",
    "        print('F1 Score by Class: ',f1)\n",
    "        print('Average Precision: ',precision.mean())\n",
    "        print('Precision by Class: ',precision)\n",
    "        print('Average Recall: ',recall)\n",
    "        print('Recall by Class: ',recall.mean())\n",
    "        print('ROC AUC score by Class: ',roc_auc)\n",
    "        #print('Average ROC AUC score: ',roc_auc.mean())\n",
    "        print('\\nConfusion Matrix:\\n',confusion_matrix(y_test, y_pred))\n",
    "        print('\\nClassification Report:\\n',classification_report(y_test, y_pred))\n",
    "        \n",
    "        model_counter+=1\n",
    "    \n",
    "    # Get best model based on accuracy score\n",
    "    maxi_model_nb = acc_results.index(max(acc_results))\n",
    "    \n",
    "    maxi_model = best_models[maxi_model_nb]\n",
    "    string_ = str(maxi_model)\n",
    "    maxi_model_name_ = string_[string_.find(''''model',''')+len(''''model', '''):]\n",
    "    maxi_model_name = maxi_model_name_[0:maxi_model_name_.find('(')].strip() \n",
    "    \n",
    "    \n",
    "    print('\\nBest Model: #{0} {1}'.format(maxi_model_nb+1,maxi_model_name))\n",
    "    \n",
    "    \n",
    "    return acc_results,f1_results, maxi_model\n",
    "\n",
    "acc_results,f1_results,maxi_model = evaluate_model(X_train, X_train, y_train, y_train, best_models)"
   ]
  },
  {
   "cell_type": "code",
   "execution_count": 258,
   "id": "13e1ba20",
   "metadata": {
    "id": "13e1ba20"
   },
   "outputs": [],
   "source": [
    "# Function to evaluate models\n",
    "def evaluate_model(X_test, X_train,y_train, y_test, best_models):\n",
    "    \n",
    "    acc_results = []\n",
    "    f1_results = []\n",
    "    \n",
    "    print('---------------- MODEL EVALUATION ----------------')\n",
    "    \n",
    "    model_counter = 1\n",
    "    for i in best_models:\n",
    "        \n",
    "        string = str(i)\n",
    "        model_name_ = string[string.find(''''model',''')+len(''''model', '''):]\n",
    "        model_name = model_name_[0:model_name_.find('(')].strip() \n",
    "        print('\\nModel #{0}: {1}'.format(model_counter,model_name))\n",
    "        \n",
    "        # Predict\n",
    "        y_pred = i.predict(X_test)        \n",
    "        df_pred = pd.DataFrame(data=y_pred, columns=['Spy'],index=y_test.index)\n",
    "        \n",
    "        # Evaluation metrics\n",
    "        accuracy = metrics.accuracy_score(y_test, y_pred)\n",
    "        f1 = metrics.f1_score(y_test, y_pred, average=None)  \n",
    "        precision = precision_score(y_test, y_pred, average=None)\n",
    "        recall = recall_score(y_test, y_pred, average=None)\n",
    "        \n",
    "        \n",
    "        # Labels to binarize\n",
    "        labels = [0, 1, 2]\n",
    "\n",
    "        # Binarize ytest with shape (n_samples, n_classes)\n",
    "        ytest = label_binarize(y_test, classes=labels)\n",
    "\n",
    "        # Binarize ypreds with shape (n_samples, n_classes)\n",
    "        ypreds = label_binarize(y_pred, classes=labels)\n",
    "        \n",
    "        # Get roc auc result\n",
    "        #roc_auc = roc_auc_score(ytest, ypreds, average=None)\n",
    "        roc_auc = 0\n",
    "        \n",
    "        acc_results.append(accuracy)\n",
    "        f1_results.append(f1)\n",
    "        \n",
    "        print('Accuracy: ',accuracy)\n",
    "        print('Average F1 Score: ',f1.mean())\n",
    "        print('F1 Score by Class: ',f1)\n",
    "        print('Average Precision: ',precision.mean())\n",
    "        print('Precision by Class: ',precision)\n",
    "        print('Average Recall: ',recall)\n",
    "        print('Recall by Class: ',recall.mean())\n",
    "        print('ROC AUC score by Class: ',roc_auc)\n",
    "        #print('Average ROC AUC score: ',roc_auc.mean())\n",
    "        print('\\nConfusion Matrix:\\n',confusion_matrix(y_test, y_pred))\n",
    "        print('\\nClassification Report:\\n',classification_report(y_test, y_pred))\n",
    "        \n",
    "        model_counter+=1\n",
    "    \n",
    "    # Get best model based on accuracy score\n",
    "    maxi_model_nb = acc_results.index(max(acc_results))\n",
    "    \n",
    "    maxi_model = best_models[maxi_model_nb]\n",
    "    string_ = str(maxi_model)\n",
    "    maxi_model_name_ = string_[string_.find(''''model',''')+len(''''model', '''):]\n",
    "    maxi_model_name = maxi_model_name_[0:maxi_model_name_.find('(')].strip() \n",
    "    \n",
    "    \n",
    "    print('\\nBest Model: #{0} {1}'.format(maxi_model_nb+1,maxi_model_name))\n",
    "    \n",
    "    \n",
    "    return acc_results,f1_results, maxi_model"
   ]
  },
  {
   "cell_type": "code",
   "execution_count": 259,
   "id": "76785427",
   "metadata": {
    "id": "76785427"
   },
   "outputs": [
    {
     "name": "stdout",
     "output_type": "stream",
     "text": [
      "---------------- MODEL EVALUATION ----------------\n",
      "\n",
      "Model #1: LGBMClassifier\n",
      "Accuracy:  0.7503787878787879\n",
      "Average F1 Score:  0.7495594733631994\n",
      "F1 Score by Class:  [0.76388391 0.73523503]\n",
      "Average Precision:  0.7500357567984055\n",
      "Precision by Class:  [0.75495751 0.74511401]\n",
      "Average Recall:  [0.77302393 0.72561459]\n",
      "Recall by Class:  0.7493192609891548\n",
      "ROC AUC score by Class:  0\n",
      "\n",
      "Confusion Matrix:\n",
      " [[1066  313]\n",
      " [ 346  915]]\n",
      "\n",
      "Classification Report:\n",
      "               precision    recall  f1-score   support\n",
      "\n",
      "           0       0.75      0.77      0.76      1379\n",
      "           1       0.75      0.73      0.74      1261\n",
      "\n",
      "    accuracy                           0.75      2640\n",
      "   macro avg       0.75      0.75      0.75      2640\n",
      "weighted avg       0.75      0.75      0.75      2640\n",
      "\n",
      "\n",
      "Best Model: #1 LGBMClassifier\n"
     ]
    }
   ],
   "source": [
    "acc_results,f1_results,maxi_model = evaluate_model(X_test, X_train, y_train, y_test, best_models)"
   ]
  },
  {
   "cell_type": "markdown",
   "id": "1b6772a2",
   "metadata": {
    "id": "1b6772a2"
   },
   "source": [
    "## Submission"
   ]
  },
  {
   "cell_type": "code",
   "execution_count": 261,
   "id": "aca99448",
   "metadata": {
    "id": "aca99448"
   },
   "outputs": [
    {
     "data": {
      "text/html": [
       "<div>\n",
       "<style scoped>\n",
       "    .dataframe tbody tr th:only-of-type {\n",
       "        vertical-align: middle;\n",
       "    }\n",
       "\n",
       "    .dataframe tbody tr th {\n",
       "        vertical-align: top;\n",
       "    }\n",
       "\n",
       "    .dataframe thead th {\n",
       "        text-align: right;\n",
       "    }\n",
       "</style>\n",
       "<table border=\"1\" class=\"dataframe\">\n",
       "  <thead>\n",
       "    <tr style=\"text-align: right;\">\n",
       "      <th></th>\n",
       "      <th>Spy</th>\n",
       "    </tr>\n",
       "    <tr>\n",
       "      <th>ID_ORIGINAL</th>\n",
       "      <th></th>\n",
       "    </tr>\n",
       "  </thead>\n",
       "  <tbody>\n",
       "    <tr>\n",
       "      <th>460139</th>\n",
       "      <td>0</td>\n",
       "    </tr>\n",
       "    <tr>\n",
       "      <th>460648</th>\n",
       "      <td>0</td>\n",
       "    </tr>\n",
       "    <tr>\n",
       "      <th>460835</th>\n",
       "      <td>0</td>\n",
       "    </tr>\n",
       "    <tr>\n",
       "      <th>461613</th>\n",
       "      <td>0</td>\n",
       "    </tr>\n",
       "    <tr>\n",
       "      <th>461721</th>\n",
       "      <td>0</td>\n",
       "    </tr>\n",
       "    <tr>\n",
       "      <th>...</th>\n",
       "      <td>...</td>\n",
       "    </tr>\n",
       "    <tr>\n",
       "      <th>473596</th>\n",
       "      <td>0</td>\n",
       "    </tr>\n",
       "    <tr>\n",
       "      <th>477769</th>\n",
       "      <td>1</td>\n",
       "    </tr>\n",
       "    <tr>\n",
       "      <th>475292</th>\n",
       "      <td>1</td>\n",
       "    </tr>\n",
       "    <tr>\n",
       "      <th>472997</th>\n",
       "      <td>1</td>\n",
       "    </tr>\n",
       "    <tr>\n",
       "      <th>475302</th>\n",
       "      <td>1</td>\n",
       "    </tr>\n",
       "  </tbody>\n",
       "</table>\n",
       "<p>493 rows × 1 columns</p>\n",
       "</div>"
      ],
      "text/plain": [
       "             Spy\n",
       "ID_ORIGINAL     \n",
       "460139         0\n",
       "460648         0\n",
       "460835         0\n",
       "461613         0\n",
       "461721         0\n",
       "...          ...\n",
       "473596         0\n",
       "477769         1\n",
       "475292         1\n",
       "472997         1\n",
       "475302         1\n",
       "\n",
       "[493 rows x 1 columns]"
      ]
     },
     "execution_count": 261,
     "metadata": {},
     "output_type": "execute_result"
    }
   ],
   "source": [
    "# Predict\n",
    "y_pred = maxi_model.predict(X_val)        \n",
    "df_pred = pd.DataFrame(data=y_pred, columns=['Spy'],index=X_val.index)\n",
    "\n",
    "df_submission = df_test_prep[['ID_ORIGINAL']].merge(df_pred, how='inner', left_index=True, right_index=True, indicator=False)\n",
    "df_submission = df_submission.set_index('ID_ORIGINAL')\n",
    "df_submission.to_csv('submission-lgb-best-age.csv')\n",
    "df_submission"
   ]
  }
 ],
 "metadata": {
  "accelerator": "GPU",
  "colab": {
   "collapsed_sections": [],
   "machine_shape": "hm",
   "name": "202122 PMDM Group16 NotebookV2 (1).ipynb",
   "provenance": []
  },
  "kernelspec": {
   "display_name": "Python 3 (ipykernel)",
   "language": "python",
   "name": "python3"
  },
  "language_info": {
   "codemirror_mode": {
    "name": "ipython",
    "version": 3
   },
   "file_extension": ".py",
   "mimetype": "text/x-python",
   "name": "python",
   "nbconvert_exporter": "python",
   "pygments_lexer": "ipython3",
   "version": "3.9.7"
  }
 },
 "nbformat": 4,
 "nbformat_minor": 5
}
